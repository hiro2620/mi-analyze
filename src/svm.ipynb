{
 "cells": [
  {
   "cell_type": "code",
   "execution_count": 1,
   "id": "1c9403ad",
   "metadata": {},
   "outputs": [],
   "source": [
    "import pickle\n",
    "import matplotlib.pyplot as plt\n",
    "import japanize_matplotlib\n",
    "import numpy as np\n",
    "from sklearn.svm import SVC\n",
    "from sklearn.model_selection import train_test_split, cross_val_score, GridSearchCV\n",
    "from sklearn.metrics import classification_report, confusion_matrix\n",
    "from sklearn.preprocessing import StandardScaler\n",
    "import pandas as pd\n",
    "import seaborn as sns"
   ]
  },
  {
   "cell_type": "code",
   "execution_count": 2,
   "id": "6a4d25a4",
   "metadata": {},
   "outputs": [],
   "source": [
    "data_file_path = \"../data/20250512/processed/ishii_merged.pkl\""
   ]
  },
  {
   "cell_type": "code",
   "execution_count": 3,
   "id": "a774b929",
   "metadata": {},
   "outputs": [],
   "source": [
    "# pickleのEEGデータを読み込む\n",
    "with open(data_file_path, 'rb') as f:\n",
    "    data = pickle.load(f)\n",
    "\n",
    "epochs_list = data['epochs_data']  # エポックデータ\n",
    "labels = data['labels']  # ラベル\n",
    "# drop_indices = data['drop_indices']  # 除外されたエポックのインデックス\n",
    "fs = 500"
   ]
  },
  {
   "cell_type": "code",
   "execution_count": 4,
   "id": "aee8f2d2",
   "metadata": {},
   "outputs": [],
   "source": [
    "# labelsが9999のものを除外する\n",
    "valid_indices = np.where(labels != 9999)[0]\n",
    "epochs_list = epochs_list[valid_indices]\n",
    "labels = labels[valid_indices]"
   ]
  },
  {
   "cell_type": "code",
   "execution_count": 5,
   "id": "eb2eaadc",
   "metadata": {},
   "outputs": [
    {
     "data": {
      "text/plain": [
       "(80, 31, 1501)"
      ]
     },
     "execution_count": 5,
     "metadata": {},
     "output_type": "execute_result"
    }
   ],
   "source": [
    "epochs_list.shape"
   ]
  },
  {
   "cell_type": "code",
   "execution_count": 6,
   "id": "529a6fb4",
   "metadata": {},
   "outputs": [
    {
     "data": {
      "text/plain": [
       "(80,)"
      ]
     },
     "execution_count": 6,
     "metadata": {},
     "output_type": "execute_result"
    }
   ],
   "source": [
    "labels.shape"
   ]
  },
  {
   "cell_type": "code",
   "execution_count": 7,
   "id": "fc518d84",
   "metadata": {},
   "outputs": [],
   "source": [
    "# 1チャンネルのデータをDFTしてバンドパスパワーを計算\n",
    "def calc_spectrum(data, band_count, fs):\n",
    "    n = len(data)\n",
    "    freq = np.fft.fftfreq(n, 1/fs)\n",
    "    spectrum = np.fft.fft(data)\n",
    "    # 1Hz-40Hzまでの4Hzごとのバンドパスパワーを計算\n",
    "    band_lower = 0\n",
    "    band_upper = 40\n",
    "    band_powers = [None] * band_count\n",
    "    for i in range(band_count):\n",
    "        band = band_lower+i*(band_upper-band_lower)/band_count, band_lower+(i+1)*(band_upper-band_lower)/band_count\n",
    "        band_power = np.sum(np.abs(spectrum[(freq >= band[0]) & (freq < band[1])])**2)\n",
    "        band_powers[i] = band_power\n",
    "    \n",
    "    # band_powersの中にNoneがないことをassert\n",
    "    # assert all([v is not None for v in band_powers]), \"Some band powers are None\"\n",
    "    assert all(band_powers), \"Some band powers are None\"\n",
    "    return band_powers"
   ]
  },
  {
   "cell_type": "code",
   "execution_count": 8,
   "id": "5e15f13e",
   "metadata": {},
   "outputs": [
    {
     "data": {
      "text/plain": [
       "array([-3.09768487e-06,  3.63364521e-07,  2.80526288e-06, ...,\n",
       "        7.68275722e-07,  4.69808578e-06,  7.49846645e-06], shape=(1501,))"
      ]
     },
     "execution_count": 8,
     "metadata": {},
     "output_type": "execute_result"
    }
   ],
   "source": [
    "e0 = epochs_list[0, :, :]\n",
    "e0c0 = epochs_list[0, 0, :]\n",
    "e0c0"
   ]
  },
  {
   "cell_type": "code",
   "execution_count": 9,
   "id": "b1a877c4",
   "metadata": {},
   "outputs": [
    {
     "data": {
      "text/plain": [
       "[np.float64(1.6344817694369637e-05),\n",
       " np.float64(6.191345721037872e-06),\n",
       " np.float64(5.352101709351605e-06),\n",
       " np.float64(7.969783152084606e-06),\n",
       " np.float64(8.109983954899702e-06),\n",
       " np.float64(1.4948249255720512e-05),\n",
       " np.float64(4.294444496407311e-06),\n",
       " np.float64(7.07153784062095e-06),\n",
       " np.float64(7.285600842563042e-06),\n",
       " np.float64(6.614251397298713e-06)]"
      ]
     },
     "execution_count": 9,
     "metadata": {},
     "output_type": "execute_result"
    }
   ],
   "source": [
    "calc_spectrum(e0c0, 10, fs)"
   ]
  },
  {
   "cell_type": "code",
   "execution_count": 10,
   "id": "b2d24251",
   "metadata": {},
   "outputs": [],
   "source": [
    "# epochs_list[0]の各チャンネルのDFTを計算\n",
    "def calc_spectrum_all_channels(epoch, band_count, fs):\n",
    "    n_channels = epoch.shape[0]\n",
    "    band_powers = np.zeros((n_channels, band_count))\n",
    "    for i in range(n_channels):\n",
    "        band_powers[i] = calc_spectrum(epoch[i, :], band_count, fs)\n",
    "    return band_powers"
   ]
  },
  {
   "cell_type": "code",
   "execution_count": 11,
   "id": "65db6161",
   "metadata": {},
   "outputs": [
    {
     "data": {
      "text/plain": [
       "array([[1.37952606e-05, 2.54955707e-06, 3.50636094e-06, 2.68498478e-06,\n",
       "        3.08153320e-06, 2.27056851e-06, 2.87801547e-06, 5.09176769e-06,\n",
       "        3.51052396e-06, 4.59946000e-06, 5.33856877e-06, 9.60968048e-06,\n",
       "        2.29316735e-06, 2.00127715e-06, 4.49137931e-06, 2.58015853e-06,\n",
       "        2.75834059e-06, 4.52726025e-06, 3.64984301e-06, 2.96440839e-06],\n",
       "       [1.43117488e-05, 3.66784429e-06, 4.76457570e-06, 2.81048299e-06,\n",
       "        3.06596400e-06, 1.96706070e-06, 2.54530677e-06, 4.95626101e-06,\n",
       "        3.90254520e-06, 4.27690761e-06, 5.20790763e-06, 9.38355749e-06,\n",
       "        2.56312294e-06, 2.17900164e-06, 4.70209766e-06, 2.89495971e-06,\n",
       "        3.12531883e-06, 3.67532470e-06, 4.20940234e-06, 2.88414173e-06],\n",
       "       [1.53352081e-05, 3.32844648e-06, 4.40700462e-06, 2.52888731e-06,\n",
       "        3.35223391e-06, 1.83980726e-06, 2.43904099e-06, 5.70119438e-06,\n",
       "        3.99552581e-06, 3.64218926e-06, 5.97914485e-06, 9.92587735e-06,\n",
       "        2.47647005e-06, 2.12712974e-06, 4.25789010e-06, 3.11095148e-06,\n",
       "        2.82377465e-06, 3.18264364e-06, 4.44488430e-06, 2.79569646e-06],\n",
       "       [1.48063168e-05, 2.83113136e-06, 4.15950980e-06, 2.88710195e-06,\n",
       "        3.39095168e-06, 2.06571742e-06, 2.67404507e-06, 6.18115490e-06,\n",
       "        4.03990976e-06, 3.61183308e-06, 6.50605768e-06, 8.61758719e-06,\n",
       "        2.66207490e-06, 2.59591764e-06, 3.86852628e-06, 3.38563680e-06,\n",
       "        3.36879978e-06, 2.98564010e-06, 4.26062879e-06, 2.85076079e-06],\n",
       "       [1.86554733e-05, 2.89648307e-06, 4.55355207e-06, 4.01851525e-06,\n",
       "        3.23473238e-06, 2.56179044e-06, 3.21093266e-06, 5.58005077e-06,\n",
       "        3.70037234e-06, 3.96675752e-06, 5.78020466e-06, 9.92478720e-06,\n",
       "        2.77547531e-06, 1.60592062e-06, 4.01768957e-06, 3.36856425e-06,\n",
       "        2.50123791e-06, 4.10063908e-06, 3.85766909e-06, 3.18958235e-06],\n",
       "       [1.59527934e-05, 3.93229412e-06, 5.53595162e-06, 3.80518195e-06,\n",
       "        4.11308206e-06, 2.89365829e-06, 3.35404561e-06, 5.53914783e-06,\n",
       "        4.24719024e-06, 4.33792922e-06, 5.66450368e-06, 9.26879109e-06,\n",
       "        2.64731523e-06, 2.18914035e-06, 4.36320822e-06, 3.63135159e-06,\n",
       "        2.28335116e-06, 3.62586921e-06, 4.12860776e-06, 3.12476027e-06],\n",
       "       [2.02652000e-05, 3.56943627e-06, 5.12441624e-06, 2.83473272e-06,\n",
       "        4.31381297e-06, 2.40285883e-06, 3.45798221e-06, 6.26550017e-06,\n",
       "        4.40292704e-06, 3.59519483e-06, 6.36508197e-06, 9.24817579e-06,\n",
       "        2.86074773e-06, 2.23392667e-06, 4.25455748e-06, 3.13304685e-06,\n",
       "        2.58479578e-06, 3.22342159e-06, 4.14594569e-06, 3.11416484e-06],\n",
       "       [2.25934773e-05, 2.67035752e-06, 5.61392228e-06, 2.95223455e-06,\n",
       "        3.89941727e-06, 2.93116850e-06, 3.21052894e-06, 6.77198422e-06,\n",
       "        3.83574399e-06, 3.72026495e-06, 6.37250547e-06, 7.95522322e-06,\n",
       "        3.20569656e-06, 2.31398432e-06, 4.60169187e-06, 2.98082089e-06,\n",
       "        2.88007504e-06, 2.66285846e-06, 3.87421241e-06, 3.23842401e-06],\n",
       "       [1.71406616e-05, 8.21432852e-06, 7.65876441e-06, 5.56171163e-06,\n",
       "        5.20267671e-06, 4.32721760e-06, 4.03755291e-06, 7.07394839e-06,\n",
       "        7.24053656e-06, 5.46251105e-06, 6.37050961e-06, 9.52805006e-06,\n",
       "        3.63912727e-06, 4.41168192e-06, 3.76320920e-06, 4.14452118e-06,\n",
       "        6.30907572e-06, 4.90640660e-06, 2.54431769e-06, 3.87493692e-06],\n",
       "       [5.14100621e-05, 7.29712184e-06, 1.06796794e-05, 5.78481020e-06,\n",
       "        8.00314255e-06, 5.75186389e-06, 9.31435343e-06, 9.94029548e-06,\n",
       "        4.59305470e-06, 4.50857101e-06, 8.00792948e-06, 7.10830892e-06,\n",
       "        6.01846177e-06, 4.30230185e-06, 5.01741529e-06, 4.10332754e-06,\n",
       "        3.56797618e-06, 4.00909679e-06, 5.35777461e-06, 4.24303901e-06],\n",
       "       [2.53837225e-05, 6.43606358e-06, 6.87169596e-06, 4.39910913e-06,\n",
       "        5.31352729e-06, 2.70203279e-06, 4.59400739e-06, 8.93327348e-06,\n",
       "        4.88675545e-06, 4.34394354e-06, 3.85772531e-06, 5.15306891e-06,\n",
       "        3.41681525e-06, 1.96157789e-06, 4.67112000e-06, 4.26420102e-06,\n",
       "        5.45632410e-06, 3.09854649e-06, 4.34992206e-06, 2.90317174e-06],\n",
       "       [1.38959243e-05, 2.05114438e-06, 3.47513918e-06, 3.39095134e-06,\n",
       "        3.33842413e-06, 1.53086490e-06, 2.46927513e-06, 6.79295577e-06,\n",
       "        3.74602554e-06, 3.62348224e-06, 5.36726760e-06, 6.84358945e-06,\n",
       "        2.83217906e-06, 2.02698630e-06, 3.87709849e-06, 3.01035374e-06,\n",
       "        3.59305031e-06, 3.01535860e-06, 3.70842531e-06, 2.57508343e-06],\n",
       "       [3.02471733e-06, 1.15246612e-06, 1.29883092e-06, 1.77283863e-06,\n",
       "        2.40590048e-06, 9.05673345e-07, 2.82242871e-06, 4.66276314e-06,\n",
       "        4.53869946e-06, 3.72442228e-06, 4.37041395e-06, 9.90620787e-06,\n",
       "        2.69267832e-06, 2.72677031e-06, 4.56904223e-06, 3.57771725e-06,\n",
       "        5.06113765e-06, 4.59711076e-06, 3.04005714e-06, 3.12258329e-06],\n",
       "       [5.59805484e-06, 1.18451159e-06, 1.97420787e-06, 1.79072341e-06,\n",
       "        2.57247905e-06, 9.01375327e-07, 2.14136102e-06, 4.56265277e-06,\n",
       "        4.06947963e-06, 2.96430986e-06, 4.30365477e-06, 8.10782954e-06,\n",
       "        2.17800463e-06, 2.19472242e-06, 3.55410227e-06, 2.69547780e-06,\n",
       "        3.17613186e-06, 3.06496861e-06, 3.10051072e-06, 2.56758432e-06],\n",
       "       [1.26365497e-05, 2.17536907e-06, 3.42587815e-06, 2.54169895e-06,\n",
       "        3.35532612e-06, 1.77725143e-06, 2.47201154e-06, 5.87013563e-06,\n",
       "        4.25265001e-06, 3.49943553e-06, 6.90221525e-06, 1.03303742e-05,\n",
       "        1.87396035e-06, 2.50335616e-06, 3.48512088e-06, 2.80178653e-06,\n",
       "        3.12738579e-06, 3.18978977e-06, 5.01546739e-06, 3.18427952e-06],\n",
       "       [1.47143617e-05, 3.45772292e-06, 3.62066277e-06, 4.13623435e-06,\n",
       "        3.23568471e-06, 1.47713806e-06, 3.49560861e-06, 1.14814585e-05,\n",
       "        3.88162913e-06, 4.37576558e-06, 7.85783629e-06, 4.58351370e-06,\n",
       "        5.84890321e-06, 3.71872608e-06, 4.44081548e-06, 7.44335188e-06,\n",
       "        1.14779395e-05, 6.19802476e-06, 6.15484906e-06, 3.35446108e-06],\n",
       "       [1.12253221e-05, 2.29185671e-06, 4.23324268e-06, 4.10131283e-06,\n",
       "        3.99525451e-06, 3.72896135e-06, 4.55177677e-06, 6.38449312e-06,\n",
       "        4.67199360e-06, 3.37288688e-06, 6.23989934e-06, 1.21082444e-05,\n",
       "        4.22445930e-06, 1.93712806e-06, 4.27299818e-06, 3.19432312e-06,\n",
       "        2.49999890e-06, 4.57811392e-06, 3.86056505e-06, 3.25311233e-06],\n",
       "       [9.66374210e-06, 2.36087284e-06, 2.88792574e-06, 2.36923895e-06,\n",
       "        3.10676105e-06, 2.27946665e-06, 3.23928603e-06, 4.73041879e-06,\n",
       "        3.83161066e-06, 3.71021282e-06, 5.92678160e-06, 9.84863498e-06,\n",
       "        2.94418934e-06, 1.44983337e-06, 4.08902485e-06, 2.92954063e-06,\n",
       "        2.75199390e-06, 4.49334627e-06, 3.63352302e-06, 3.12945299e-06],\n",
       "       [1.02118816e-05, 1.62022784e-06, 3.34580358e-06, 2.41443325e-06,\n",
       "        3.26785875e-06, 2.20246490e-06, 3.03247751e-06, 5.65135073e-06,\n",
       "        4.42858721e-06, 3.26243813e-06, 5.48417323e-06, 1.04540060e-05,\n",
       "        3.46767808e-06, 1.82498863e-06, 5.65590382e-06, 2.73062319e-06,\n",
       "        2.74986537e-06, 4.20296711e-06, 3.12092262e-06, 3.35771483e-06],\n",
       "       [1.07555719e-05, 1.89431104e-06, 4.79408905e-06, 3.15277860e-06,\n",
       "        4.43761492e-06, 2.44848409e-06, 4.16270225e-06, 6.17116605e-06,\n",
       "        5.84468916e-06, 3.55069921e-06, 7.73063063e-06, 1.33549902e-05,\n",
       "        5.11527028e-06, 2.90999916e-06, 5.79458926e-06, 2.71973647e-06,\n",
       "        3.03422457e-06, 5.30278028e-06, 2.58095894e-06, 4.07681206e-06],\n",
       "       [2.98504744e-06, 1.19779395e-06, 1.42563962e-06, 1.27139857e-06,\n",
       "        2.26003523e-06, 1.14081718e-06, 2.13601369e-06, 3.77463368e-06,\n",
       "        4.18421321e-06, 2.96434787e-06, 3.68813974e-06, 8.25401022e-06,\n",
       "        3.33451402e-06, 2.24423035e-06, 4.41931095e-06, 2.25805872e-06,\n",
       "        2.85534944e-06, 4.20605159e-06, 2.58122408e-06, 2.60654771e-06],\n",
       "       [5.01335347e-06, 2.62544849e-06, 2.42424003e-06, 2.23105842e-06,\n",
       "        2.36686637e-06, 2.29267459e-06, 2.43911860e-06, 5.87742601e-06,\n",
       "        5.36470322e-06, 2.98782352e-06, 3.45978762e-06, 8.69488830e-06,\n",
       "        4.44387188e-06, 2.76880644e-06, 3.43567616e-06, 2.49627382e-06,\n",
       "        3.10102388e-06, 5.63986624e-06, 3.61903039e-06, 3.02301915e-06],\n",
       "       [7.44494410e-06, 1.19038797e-06, 1.79392286e-06, 1.70559442e-06,\n",
       "        2.52003728e-06, 1.40819703e-06, 4.43810813e-06, 4.14370444e-06,\n",
       "        3.51835152e-06, 2.67854304e-06, 6.56627419e-06, 1.30321050e-05,\n",
       "        2.52430565e-06, 2.41282661e-06, 5.08073977e-06, 3.37364405e-06,\n",
       "        4.37707972e-06, 3.72094126e-06, 3.08598336e-06, 3.53541384e-06],\n",
       "       [1.20867978e-05, 3.30400950e-06, 4.10268509e-06, 2.45769403e-06,\n",
       "        3.11080201e-06, 1.59608974e-06, 2.43338339e-06, 5.66182279e-06,\n",
       "        4.18308571e-06, 3.35621262e-06, 5.85497700e-06, 1.12182840e-05,\n",
       "        1.94261371e-06, 2.15540658e-06, 3.94990889e-06, 3.00429773e-06,\n",
       "        3.31098405e-06, 3.19502963e-06, 4.21646453e-06, 2.76635102e-06],\n",
       "       [1.13995481e-05, 3.52109113e-06, 4.24113740e-06, 1.91452926e-06,\n",
       "        2.70540651e-06, 1.62574102e-06, 2.33652498e-06, 4.89456046e-06,\n",
       "        3.59582802e-06, 3.94149244e-06, 5.42055417e-06, 1.09604364e-05,\n",
       "        2.06037287e-06, 2.21417934e-06, 4.35194778e-06, 2.75188854e-06,\n",
       "        3.29008921e-06, 3.59021008e-06, 4.16655555e-06, 2.92704720e-06],\n",
       "       [4.01841344e-06, 2.58708521e-06, 1.33385511e-06, 1.47875603e-06,\n",
       "        2.43972806e-06, 1.54167184e-06, 2.63484865e-06, 3.43314141e-06,\n",
       "        4.27499588e-06, 3.89431427e-06, 5.42271625e-06, 1.16369962e-05,\n",
       "        3.11453560e-06, 2.20158017e-06, 4.88624664e-06, 2.78108850e-06,\n",
       "        2.69978328e-06, 4.57140191e-06, 3.67267073e-06, 3.18944647e-06],\n",
       "       [5.98868883e-06, 2.88027188e-06, 3.06601973e-06, 1.70350828e-06,\n",
       "        2.34859917e-06, 1.55591865e-06, 2.44857587e-06, 4.43672138e-06,\n",
       "        3.57131923e-06, 4.51874060e-06, 5.22386678e-06, 1.15377235e-05,\n",
       "        2.18295566e-06, 2.08646194e-06, 4.24052523e-06, 2.49125671e-06,\n",
       "        3.08530444e-06, 4.13354613e-06, 4.01975698e-06, 2.90465201e-06],\n",
       "       [1.74874105e-05, 2.28426077e-06, 4.36707008e-06, 3.28512356e-06,\n",
       "        3.40764591e-06, 3.29764207e-06, 4.21236112e-06, 6.22100844e-06,\n",
       "        4.05564179e-06, 3.99195291e-06, 6.01595498e-06, 9.56383590e-06,\n",
       "        3.57268881e-06, 1.72298025e-06, 4.24393631e-06, 3.21075680e-06,\n",
       "        2.11502771e-06, 4.46487089e-06, 3.34651298e-06, 3.03287302e-06],\n",
       "       [2.64813016e-05, 7.98193287e-06, 7.00108816e-06, 1.24290743e-05,\n",
       "        1.13547948e-05, 1.02827803e-05, 1.48384646e-05, 1.10328243e-05,\n",
       "        1.14539704e-05, 5.01708979e-06, 1.37671049e-05, 1.91518819e-05,\n",
       "        1.50139315e-05, 5.93062818e-06, 1.13408756e-05, 8.06810312e-06,\n",
       "        3.66718843e-06, 1.15753778e-05, 6.23742892e-06, 6.68422812e-06],\n",
       "       [4.24344250e-05, 6.84888930e-06, 1.02194652e-05, 8.12741043e-06,\n",
       "        7.91620672e-06, 6.21451492e-06, 9.54839631e-06, 1.12229338e-05,\n",
       "        8.39196534e-06, 4.57773868e-06, 8.14349131e-06, 9.26867815e-06,\n",
       "        5.43388470e-06, 4.01969834e-06, 4.77895049e-06, 4.37425862e-06,\n",
       "        2.40263599e-06, 4.88348976e-06, 6.38844103e-06, 3.14343212e-06],\n",
       "       [1.89683809e-05, 5.10572174e-06, 5.69915085e-06, 9.70716838e-06,\n",
       "        8.10260427e-06, 5.79927437e-06, 7.39208072e-06, 1.03617986e-05,\n",
       "        8.03086529e-06, 4.53649797e-06, 7.86344331e-06, 1.29664186e-05,\n",
       "        4.43557641e-06, 2.65114008e-06, 4.17966878e-06, 3.76187104e-06,\n",
       "        1.74774315e-06, 5.40724149e-06, 3.67787503e-06, 3.89437591e-06]])"
      ]
     },
     "execution_count": 11,
     "metadata": {},
     "output_type": "execute_result"
    }
   ],
   "source": [
    "calc_spectrum_all_channels(e0, 20, fs)"
   ]
  },
  {
   "cell_type": "code",
   "execution_count": 12,
   "id": "b582959b",
   "metadata": {},
   "outputs": [],
   "source": [
    "band_count = 20\n",
    "all_epochs_band_powers = np.zeros((epochs_list.shape[0], epochs_list.shape[1], band_count))\n",
    "for i in range(epochs_list.shape[0]):\n",
    "    for j in range(epochs_list.shape[1]):\n",
    "        all_epochs_band_powers[i] = calc_spectrum_all_channels(epochs_list[i], band_count, fs)"
   ]
  },
  {
   "cell_type": "code",
   "execution_count": 13,
   "id": "06a99395",
   "metadata": {},
   "outputs": [
    {
     "data": {
      "text/plain": [
       "array([[[1.37952606e-05, 2.54955707e-06, 3.50636094e-06, ...,\n",
       "         4.52726025e-06, 3.64984301e-06, 2.96440839e-06],\n",
       "        [1.43117488e-05, 3.66784429e-06, 4.76457570e-06, ...,\n",
       "         3.67532470e-06, 4.20940234e-06, 2.88414173e-06],\n",
       "        [1.53352081e-05, 3.32844648e-06, 4.40700462e-06, ...,\n",
       "         3.18264364e-06, 4.44488430e-06, 2.79569646e-06],\n",
       "        ...,\n",
       "        [2.64813016e-05, 7.98193287e-06, 7.00108816e-06, ...,\n",
       "         1.15753778e-05, 6.23742892e-06, 6.68422812e-06],\n",
       "        [4.24344250e-05, 6.84888930e-06, 1.02194652e-05, ...,\n",
       "         4.88348976e-06, 6.38844103e-06, 3.14343212e-06],\n",
       "        [1.89683809e-05, 5.10572174e-06, 5.69915085e-06, ...,\n",
       "         5.40724149e-06, 3.67787503e-06, 3.89437591e-06]],\n",
       "\n",
       "       [[3.34190778e-06, 2.69820764e-06, 9.82066700e-07, ...,\n",
       "         5.93345656e-06, 2.64785614e-06, 4.22627644e-06],\n",
       "        [9.22456365e-06, 3.48161228e-06, 2.06882546e-06, ...,\n",
       "         5.71900334e-06, 2.55551355e-06, 4.41169790e-06],\n",
       "        [5.79493939e-06, 2.19707364e-06, 1.57231228e-06, ...,\n",
       "         5.37384062e-06, 2.68822445e-06, 4.26579058e-06],\n",
       "        ...,\n",
       "        [9.87888873e-06, 3.64728295e-06, 2.06524604e-06, ...,\n",
       "         1.11225972e-05, 1.38113089e-05, 1.41512211e-05],\n",
       "        [1.17724677e-05, 3.48085765e-06, 2.49235218e-06, ...,\n",
       "         7.73752387e-06, 4.85112523e-06, 7.51767451e-06],\n",
       "        [7.59281876e-06, 3.97003490e-06, 2.70660946e-06, ...,\n",
       "         7.52998999e-06, 5.01898176e-06, 5.49426097e-06]],\n",
       "\n",
       "       [[1.18163790e-05, 2.54507419e-06, 2.89163938e-06, ...,\n",
       "         3.29326067e-06, 1.94601749e-06, 2.49109582e-06],\n",
       "        [1.64651494e-05, 3.41753237e-06, 4.85422593e-06, ...,\n",
       "         3.53748552e-06, 1.96031934e-06, 1.98205984e-06],\n",
       "        [1.28147038e-05, 2.76027181e-06, 5.16020097e-06, ...,\n",
       "         3.94580369e-06, 2.08743712e-06, 2.09963816e-06],\n",
       "        ...,\n",
       "        [2.42086438e-05, 5.07267619e-06, 5.44425826e-06, ...,\n",
       "         1.20174089e-05, 9.68028004e-06, 1.21955322e-05],\n",
       "        [1.44893192e-05, 8.42614932e-06, 6.87622979e-06, ...,\n",
       "         3.03405409e-06, 4.76684067e-06, 3.97156012e-06],\n",
       "        [1.75090623e-05, 6.67862992e-06, 6.72435561e-06, ...,\n",
       "         4.45886053e-06, 3.61682286e-06, 3.27530343e-06]],\n",
       "\n",
       "       ...,\n",
       "\n",
       "       [[4.98177147e-05, 3.15333093e-06, 1.03380609e-05, ...,\n",
       "         1.64526224e-05, 1.20176921e-05, 2.46456999e-05],\n",
       "        [4.06359769e-05, 3.61719657e-06, 9.84468127e-06, ...,\n",
       "         1.57039171e-05, 1.22519906e-05, 2.50238376e-05],\n",
       "        [4.62285965e-05, 3.32320054e-06, 8.89119117e-06, ...,\n",
       "         1.60666189e-05, 1.26159407e-05, 2.44678231e-05],\n",
       "        ...,\n",
       "        [1.13808394e-04, 6.11349159e-06, 2.27890806e-05, ...,\n",
       "         1.95611138e-05, 1.23599783e-05, 3.43230995e-05],\n",
       "        [1.35414793e-04, 7.05702619e-06, 1.84820765e-05, ...,\n",
       "         1.95697208e-05, 1.63905709e-05, 2.79286096e-05],\n",
       "        [1.13138216e-04, 4.79706013e-06, 2.07622290e-05, ...,\n",
       "         2.05271429e-05, 1.24659616e-05, 2.75825926e-05]],\n",
       "\n",
       "       [[2.95783924e-05, 8.25951688e-06, 3.28333166e-06, ...,\n",
       "         1.32326776e-05, 1.09155660e-05, 1.17515631e-05],\n",
       "        [3.23793525e-05, 9.37075799e-06, 3.50371441e-06, ...,\n",
       "         1.30715652e-05, 1.07020031e-05, 1.14615445e-05],\n",
       "        [2.16458861e-05, 8.84860478e-06, 3.70963575e-06, ...,\n",
       "         1.29640716e-05, 1.01541700e-05, 1.15709203e-05],\n",
       "        ...,\n",
       "        [3.72615442e-05, 1.58170082e-05, 7.43439227e-06, ...,\n",
       "         1.77340625e-05, 1.20867718e-05, 1.35178981e-05],\n",
       "        [6.44605069e-05, 1.74000393e-05, 8.29501932e-06, ...,\n",
       "         1.41743173e-05, 9.70497421e-06, 1.31225731e-05],\n",
       "        [4.67841235e-05, 1.41485043e-05, 6.12673690e-06, ...,\n",
       "         1.37575481e-05, 8.95179876e-06, 1.20599823e-05]],\n",
       "\n",
       "       [[2.11052913e-05, 1.39242620e-05, 1.00657235e-06, ...,\n",
       "         1.16739123e-05, 1.49224958e-05, 1.25490033e-05],\n",
       "        [2.95885698e-05, 1.35904989e-05, 1.51528840e-06, ...,\n",
       "         1.25037703e-05, 1.47649884e-05, 1.22432199e-05],\n",
       "        [1.90449667e-05, 1.22818863e-05, 1.78443073e-06, ...,\n",
       "         1.26500112e-05, 1.43518107e-05, 1.18557920e-05],\n",
       "        ...,\n",
       "        [1.70890592e-05, 3.25403929e-05, 6.64482822e-06, ...,\n",
       "         1.18568972e-05, 1.68722515e-05, 1.65403815e-05],\n",
       "        [3.67627667e-05, 2.97313062e-05, 6.26542499e-06, ...,\n",
       "         1.10396676e-05, 1.55476667e-05, 2.19075610e-05],\n",
       "        [2.41360276e-05, 2.60620510e-05, 6.04410092e-06, ...,\n",
       "         8.91641697e-06, 1.54816450e-05, 1.49219353e-05]]],\n",
       "      shape=(80, 31, 20))"
      ]
     },
     "execution_count": 13,
     "metadata": {},
     "output_type": "execute_result"
    }
   ],
   "source": [
    "all_epochs_band_powers"
   ]
  },
  {
   "cell_type": "code",
   "execution_count": 14,
   "metadata": {},
   "outputs": [
    {
     "name": "stdout",
     "output_type": "stream",
     "text": [
      "特徴量のshape: (80, 620)\n",
      "ラベルのshape: (80,)\n"
     ]
    }
   ],
   "source": [
    "# 特徴量を2次元配列に変換（サンプル数×特徴量）\n",
    "# 31*20=620の特徴量を持つ40個のデータに変換\n",
    "X = all_epochs_band_powers.reshape(all_epochs_band_powers.shape[0], -1)\n",
    "print(f\"特徴量のshape: {X.shape}\")\n",
    "print(f\"ラベルのshape: {labels.shape}\")"
   ]
  },
  {
   "cell_type": "code",
   "execution_count": 15,
   "id": "f2e44769",
   "metadata": {},
   "outputs": [],
   "source": [
    "# トレーニングデータとテストデータに分割\n",
    "X_train, X_test, y_train, y_test = train_test_split(X, labels, test_size=0.3, random_state=42, stratify=labels)"
   ]
  },
  {
   "cell_type": "code",
   "execution_count": 16,
   "id": "3eecd30e",
   "metadata": {},
   "outputs": [],
   "source": [
    "# 特徴量のスケーリング\n",
    "scaler = StandardScaler()\n",
    "X_train_scaled = scaler.fit_transform(X_train)\n",
    "X_test_scaled = scaler.transform(X_test)"
   ]
  },
  {
   "cell_type": "code",
   "execution_count": 17,
   "id": "29c1ed1a",
   "metadata": {},
   "outputs": [
    {
     "name": "stdout",
     "output_type": "stream",
     "text": [
      "分類レポート:\n",
      "              precision    recall  f1-score   support\n",
      "\n",
      "           1       0.45      0.56      0.50         9\n",
      "           2       0.00      0.00      0.00         7\n",
      "           3       0.33      0.50      0.40         8\n",
      "\n",
      "    accuracy                           0.38        24\n",
      "   macro avg       0.26      0.35      0.30        24\n",
      "weighted avg       0.28      0.38      0.32        24\n",
      "\n",
      "ラベルの分布:\n",
      "ラベル 1: 28個\n",
      "ラベル 2: 24個\n",
      "ラベル 3: 28個\n"
     ]
    }
   ],
   "source": [
    "# SVMモデルの作成と学習\n",
    "svm = SVC(kernel='rbf', C=1.0, gamma='scale', random_state=42)\n",
    "svm.fit(X_train_scaled, y_train)\n",
    "\n",
    "# テストデータで予測\n",
    "y_pred = svm.predict(X_test_scaled)\n",
    "\n",
    "# 評価\n",
    "print(\"分類レポート:\")\n",
    "print(classification_report(y_test, y_pred))# ラベルの分布を確認\n",
    "unique_labels, counts = np.unique(labels, return_counts=True)\n",
    "print(\"ラベルの分布:\")\n",
    "for label, count in zip(unique_labels, counts):\n",
    "    print(f\"ラベル {label}: {count}個\")"
   ]
  },
  {
   "cell_type": "code",
   "execution_count": 18,
   "id": "0a233a5d",
   "metadata": {},
   "outputs": [
    {
     "data": {
      "image/png": "[encoded data removed]",
      "text/plain": [
       "<Figure size 800x600 with 2 Axes>"
      ]
     },
     "metadata": {},
     "output_type": "display_data"
    }
   ],
   "source": [
    "# 混同行列の表示\n",
    "cm = confusion_matrix(y_test, y_pred)\n",
    "plt.figure(figsize=(8, 6))\n",
    "sns.heatmap(cm, annot=True, fmt='d', cmap='Blues', \n",
    "           xticklabels=unique_labels, \n",
    "           yticklabels=unique_labels)\n",
    "plt.xlabel('予測ラベル')\n",
    "plt.ylabel('実際のラベル')\n",
    "plt.title('混同行列')\n",
    "plt.show()"
   ]
  },
  {
   "cell_type": "code",
   "execution_count": 19,
   "id": "d88725da",
   "metadata": {},
   "outputs": [
    {
     "name": "stdout",
     "output_type": "stream",
     "text": [
      "クロスバリデーションスコア: [0.33333333 0.16666667 0.16666667 0.16666667 0.16666667 0.16666667\n",
      " 0.4        0.2        0.         0.2       ]\n",
      "平均精度: 0.1967 ± 0.1016\n"
     ]
    },
    {
     "data": {
      "image/png": "[encoded data removed]",
      "text/plain": [
       "<Figure size 800x600 with 1 Axes>"
      ]
     },
     "metadata": {},
     "output_type": "display_data"
    }
   ],
   "source": [
    "# クロスバリデーションで評価\n",
    "cv_scores = cross_val_score(svm, X_train_scaled, y_train, cv=10)\n",
    "print(f\"クロスバリデーションスコア: {cv_scores}\")\n",
    "print(f\"平均精度: {cv_scores.mean():.4f} ± {cv_scores.std():.4f}\")\n",
    "# クロスバリデーションの結果をプロット\n",
    "plt.figure(figsize=(8, 6))\n",
    "plt.plot(cv_scores, marker='o', linestyle='-', color='b')\n",
    "plt.title('クロスバリデーションスコア')\n",
    "plt.xlabel('Fold')\n",
    "plt.ylabel('スコア')\n",
    "plt.xticks(range(len(cv_scores)))\n",
    "plt.grid()\n",
    "plt.show()"
   ]
  },
  {
   "cell_type": "code",
   "execution_count": 20,
   "id": "edaf5eda",
   "metadata": {},
   "outputs": [
    {
     "name": "stdout",
     "output_type": "stream",
     "text": [
      "最適パラメータ: {'C': 1, 'gamma': 0.01, 'kernel': 'rbf'}\n",
      "最高スコア: 0.4033\n"
     ]
    }
   ],
   "source": [
    "# ハイパーパラメータチューニング\n",
    "param_grid = {\n",
    "    'C': [0.1, 1, 10, 100],\n",
    "    'gamma': ['scale', 'auto', 0.1, 0.01, 0.001],\n",
    "    'kernel': ['rbf', 'linear', 'poly']\n",
    "}\n",
    "\n",
    "grid_search = GridSearchCV(SVC(random_state=42), param_grid, cv=10, scoring='accuracy', n_jobs=-1)\n",
    "grid_search.fit(X_train_scaled, y_train)\n",
    "\n",
    "print(f\"最適パラメータ: {grid_search.best_params_}\")\n",
    "print(f\"最高スコア: {grid_search.best_score_:.4f}\")\n"
   ]
  },
  {
   "cell_type": "code",
   "execution_count": 23,
   "id": "a4d5362e",
   "metadata": {},
   "outputs": [
    {
     "name": "stdout",
     "output_type": "stream",
     "text": [
      "最適モデルのクロスバリデーションスコア: [0.5        0.33333333 0.33333333 0.33333333 0.16666667 0.16666667\n",
      " 0.4        0.6        0.6        0.6       ]\n",
      "最適モデルの平均精度: 0.4033 ± 0.1588\n",
      "最適モデルの分類レポート:\n",
      "              precision    recall  f1-score   support\n",
      "\n",
      "           1       0.00      0.00      0.00         9\n",
      "           2       0.00      0.00      0.00         7\n",
      "           3       0.32      0.75      0.44         8\n",
      "\n",
      "    accuracy                           0.25        24\n",
      "   macro avg       0.11      0.25      0.15        24\n",
      "weighted avg       0.11      0.25      0.15        24\n",
      "\n"
     ]
    },
    {
     "data": {
      "image/png": "[encoded data removed]",
      "text/plain": [
       "<Figure size 800x600 with 2 Axes>"
      ]
     },
     "metadata": {},
     "output_type": "display_data"
    }
   ],
   "source": [
    "# 最適なモデルで評価\n",
    "best_svm = grid_search.best_estimator_\n",
    "y_pred_best = best_svm.predict(X_test_scaled)\n",
    "\n",
    "# 最適なモデルのCVスコアを計算\n",
    "best_cv_scores = cross_val_score(best_svm, X_train_scaled, y_train, cv=10)\n",
    "print(f\"最適モデルのクロスバリデーションスコア: {best_cv_scores}\")\n",
    "print(f\"最適モデルの平均精度: {best_cv_scores.mean():.4f} ± {best_cv_scores.std():.4f}\")\n",
    "\n",
    "print(\"最適モデルの分類レポート:\")\n",
    "print(classification_report(y_test, y_pred_best))\n",
    "\n",
    "# 混同行列の表示\n",
    "cm_best = confusion_matrix(y_test, y_pred_best)\n",
    "plt.figure(figsize=(8, 6))\n",
    "sns.heatmap(cm_best, annot=True, fmt='d', cmap='Blues',\n",
    "           xticklabels=unique_labels, \n",
    "           yticklabels=unique_labels)\n",
    "plt.xlabel('予測ラベル')\n",
    "plt.ylabel('実際のラベル')\n",
    "plt.title('最適モデルの混同行列')\n",
    "plt.show()"
   ]
  }
 ],
 "metadata": {
  "kernelspec": {
   "display_name": ".venv",
   "language": "python",
   "name": "python3"
  },
  "language_info": {
   "codemirror_mode": {
    "name": "ipython",
    "version": 3
   },
   "file_extension": ".py",
   "mimetype": "text/x-python",
   "name": "python",
   "nbconvert_exporter": "python",
   "pygments_lexer": "ipython3",
   "version": "3.12.3"
  }
 },
 "nbformat": 4,
 "nbformat_minor": 5
}
