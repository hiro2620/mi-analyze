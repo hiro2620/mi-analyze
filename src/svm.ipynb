{
 "cells": [
  {
   "cell_type": "code",
   "execution_count": 1,
   "id": "1c9403ad",
   "metadata": {},
   "outputs": [],
   "source": [
    "from sklearn.svm import SVC\n",
    "from sklearn.model_selection import train_test_split, cross_val_score, GridSearchCV\n",
    "from sklearn.metrics import classification_report, confusion_matrix\n",
    "from sklearn.preprocessing import StandardScaler\n",
    "import pandas as pd\n",
    "import seaborn as sns"
   ]
  },
  {
   "cell_type": "code",
   "execution_count": 2,
   "id": "301cd392",
   "metadata": {},
   "outputs": [],
   "source": [
    "import pickle\n",
    "import matplotlib.pyplot as plt\n",
    "import numpy as np"
   ]
  },
  {
   "cell_type": "code",
   "execution_count": 3,
   "id": "6a4d25a4",
   "metadata": {},
   "outputs": [],
   "source": [
    "data_file_path = \"../data/20250512/processed/ishii0001_ica_epochs.pkl\""
   ]
  },
  {
   "cell_type": "code",
   "execution_count": 4,
   "id": "a774b929",
   "metadata": {},
   "outputs": [],
   "source": [
    "# pickleのEEGデータを読み込む\n",
    "with open(data_file_path, 'rb') as f:\n",
    "    data = pickle.load(f)\n",
    "\n",
    "epochs_list = data['epochs_data']  # エポックデータ\n",
    "labels = data['labels']  # ラベル\n",
    "drop_indices = data['drop_indices']  # 除外されたエポックのインデックス\n",
    "fs = data['sfreq']  # サンプリング周波数"
   ]
  },
  {
   "cell_type": "code",
   "execution_count": null,
   "id": "aee8f2d2",
   "metadata": {},
   "outputs": [
    {
     "name": "stdout",
     "output_type": "stream",
     "text": [
      "[   3 9999    3 9999    2 9999    1 9999    2 9999    3 9999    1 9999\n",
      "    2 9999    1 9999    3 9999    1 9999    4 9999    4 9999    4 9999\n",
      "    2 9999    2 9999    1 9999    4 9999    4 9999    3 9999]\n",
      "Valid indices: [ 0  2  4  6  8 10 12 14 16 18 20 22 24 26 28 30 32 34 36 38]\n"
     ]
    }
   ],
   "source": [
    "# labelsが9999のものを除外する\n",
    "valid_indices = np.where(labels != 9999)[0]\n",
    "epochs_list = epochs_list[valid_indices]\n",
    "labels = labels[valid_indices]"
   ]
  },
  {
   "cell_type": "code",
   "execution_count": 6,
   "id": "eb2eaadc",
   "metadata": {},
   "outputs": [
    {
     "data": {
      "text/plain": [
       "(20, 31, 1501)"
      ]
     },
     "execution_count": 6,
     "metadata": {},
     "output_type": "execute_result"
    }
   ],
   "source": [
    "epochs_list.shape"
   ]
  },
  {
   "cell_type": "code",
   "execution_count": 7,
   "id": "529a6fb4",
   "metadata": {},
   "outputs": [
    {
     "data": {
      "text/plain": [
       "(20,)"
      ]
     },
     "execution_count": 7,
     "metadata": {},
     "output_type": "execute_result"
    }
   ],
   "source": [
    "labels.shape"
   ]
  },
  {
   "cell_type": "code",
   "execution_count": 8,
   "id": "fc518d84",
   "metadata": {},
   "outputs": [],
   "source": [
    "# 1チャンネルのデータをDFTしてバンドパスパワーを計算\n",
    "def calc_spectrum(data, band_count, fs):\n",
    "    n = len(data)\n",
    "    freq = np.fft.fftfreq(n, 1/fs)\n",
    "    spectrum = np.fft.fft(data)\n",
    "    # 1Hz-40Hzまでの4Hzごとのバンドパスパワーを計算\n",
    "    band_lower = 0\n",
    "    band_upper = 40\n",
    "    band_powers = [None] * band_count\n",
    "    for i in range(band_count):\n",
    "        band = band_lower+i*(band_upper-band_lower)/band_count, band_lower+(i+1)*(band_upper-band_lower)/band_count\n",
    "        band_power = np.sum(np.abs(spectrum[(freq >= band[0]) & (freq < band[1])])**2)\n",
    "        band_powers[i] = band_power\n",
    "    \n",
    "    # band_powersの中にNoneがないことをassert\n",
    "    # assert all([v is not None for v in band_powers]), \"Some band powers are None\"\n",
    "    assert all(band_powers), \"Some band powers are None\"\n",
    "    return band_powers"
   ]
  },
  {
   "cell_type": "code",
   "execution_count": 9,
   "id": "5e15f13e",
   "metadata": {},
   "outputs": [
    {
     "data": {
      "text/plain": [
       "array([-6.75198725e-07, -5.51066864e-06, -9.36655055e-06, ...,\n",
       "       -2.97847574e-06, -1.14345378e-06,  1.65799963e-06], shape=(1501,))"
      ]
     },
     "execution_count": 9,
     "metadata": {},
     "output_type": "execute_result"
    }
   ],
   "source": [
    "e0 = epochs_list[0, :, :]\n",
    "e0c0 = epochs_list[0, 0, :]\n",
    "e0c0"
   ]
  },
  {
   "cell_type": "code",
   "execution_count": 10,
   "id": "b1a877c4",
   "metadata": {},
   "outputs": [
    {
     "data": {
      "text/plain": [
       "[np.float64(1.698048075453929e-05),\n",
       " np.float64(7.877033988155454e-06),\n",
       " np.float64(5.2932576524111285e-06),\n",
       " np.float64(2.3761947246002594e-06),\n",
       " np.float64(3.800539931161806e-06),\n",
       " np.float64(1.6394351019412506e-06),\n",
       " np.float64(2.5023727998355163e-06),\n",
       " np.float64(5.085831182453228e-06),\n",
       " np.float64(2.6741813460157354e-06),\n",
       " np.float64(5.423635540066377e-06),\n",
       " np.float64(4.6203661178078e-06),\n",
       " np.float64(5.843655717298989e-06),\n",
       " np.float64(3.520613772255113e-06),\n",
       " np.float64(3.568861191267588e-06),\n",
       " np.float64(2.964528786281854e-06),\n",
       " np.float64(2.9521685999340664e-06),\n",
       " np.float64(2.107630082954637e-06),\n",
       " np.float64(3.7938655719430237e-06),\n",
       " np.float64(2.2300703046209797e-06),\n",
       " np.float64(3.5124327087835145e-06)]"
      ]
     },
     "execution_count": 10,
     "metadata": {},
     "output_type": "execute_result"
    }
   ],
   "source": [
    "calc_spectrum(e0c0, 20, fs)"
   ]
  },
  {
   "cell_type": "code",
   "execution_count": 11,
   "id": "b2d24251",
   "metadata": {},
   "outputs": [],
   "source": [
    "# epochs_list[0]の各チャンネルのDFTを計算\n",
    "def calc_spectrum_all_channels(epoch, band_count, fs):\n",
    "    n_channels = epoch.shape[0]\n",
    "    band_powers = np.zeros((n_channels, band_count))\n",
    "    for i in range(n_channels):\n",
    "        band_powers[i] = calc_spectrum(epoch[i, :], band_count, fs)\n",
    "    return band_powers"
   ]
  },
  {
   "cell_type": "code",
   "execution_count": 12,
   "id": "65db6161",
   "metadata": {},
   "outputs": [
    {
     "data": {
      "text/plain": [
       "array([[1.69804808e-05, 7.87703399e-06, 5.29325765e-06, 2.37619472e-06,\n",
       "        3.80053993e-06, 1.63943510e-06, 2.50237280e-06, 5.08583118e-06,\n",
       "        2.67418135e-06, 5.42363554e-06, 4.62036612e-06, 5.84365572e-06,\n",
       "        3.52061377e-06, 3.56886119e-06, 2.96452879e-06, 2.95216860e-06,\n",
       "        2.10763008e-06, 3.79386557e-06, 2.23007030e-06, 3.51243271e-06],\n",
       "       [2.38896386e-05, 8.08923336e-06, 5.53178161e-06, 2.37089290e-06,\n",
       "        3.71408518e-06, 1.35202379e-06, 2.78491095e-06, 4.68570056e-06,\n",
       "        2.80511817e-06, 5.09029470e-06, 4.73761113e-06, 5.88989171e-06,\n",
       "        3.63770022e-06, 3.14035211e-06, 2.95727194e-06, 3.24864889e-06,\n",
       "        1.67995095e-06, 3.61447185e-06, 2.27670030e-06, 3.56422654e-06],\n",
       "       [1.70832749e-05, 1.03702119e-05, 6.08457997e-06, 3.06895083e-06,\n",
       "        3.93385422e-06, 1.80844457e-06, 2.57348988e-06, 4.70489660e-06,\n",
       "        2.81555045e-06, 4.48107102e-06, 4.77298906e-06, 5.28657677e-06,\n",
       "        3.82235970e-06, 3.02119989e-06, 2.37411805e-06, 3.81149416e-06,\n",
       "        1.99130332e-06, 3.58452191e-06, 2.52307492e-06, 3.29316993e-06],\n",
       "       [1.56140712e-05, 1.21222326e-05, 6.52756784e-06, 3.25916898e-06,\n",
       "        4.42090578e-06, 2.13899227e-06, 2.73673286e-06, 5.25907047e-06,\n",
       "        2.71522401e-06, 4.82854079e-06, 5.14953114e-06, 5.46457896e-06,\n",
       "        3.88926889e-06, 2.72934346e-06, 2.11317063e-06, 4.04470303e-06,\n",
       "        2.36956909e-06, 3.54851018e-06, 2.81009759e-06, 3.72639229e-06],\n",
       "       [2.52189024e-05, 8.35990157e-06, 7.14234608e-06, 3.78384988e-06,\n",
       "        2.89172117e-06, 1.65006821e-06, 3.26448676e-06, 5.52571582e-06,\n",
       "        3.13455615e-06, 5.96674802e-06, 4.56486689e-06, 5.73591066e-06,\n",
       "        2.91185837e-06, 3.72547747e-06, 3.38254019e-06, 2.98345902e-06,\n",
       "        2.43488425e-06, 3.98661255e-06, 3.22769487e-06, 3.50427992e-06],\n",
       "       [2.09163653e-05, 1.03434493e-05, 6.38051807e-06, 3.74628313e-06,\n",
       "        3.79873127e-06, 1.21249445e-06, 3.30580564e-06, 4.70886754e-06,\n",
       "        2.38748090e-06, 5.27312824e-06, 4.59523539e-06, 5.18900181e-06,\n",
       "        3.29839217e-06, 3.21987659e-06, 3.42960932e-06, 3.04170527e-06,\n",
       "        1.75974665e-06, 3.84557674e-06, 3.16484877e-06, 3.86164002e-06],\n",
       "       [2.03119990e-05, 1.08265957e-05, 7.12140722e-06, 3.59052719e-06,\n",
       "        3.78561007e-06, 1.72050892e-06, 2.90606844e-06, 5.35630958e-06,\n",
       "        2.59143309e-06, 5.23593177e-06, 5.21631319e-06, 5.41054390e-06,\n",
       "        3.08634241e-06, 3.48628145e-06, 2.56392665e-06, 3.50006019e-06,\n",
       "        2.22961751e-06, 3.92100674e-06, 3.15175492e-06, 3.88168361e-06],\n",
       "       [1.68061380e-05, 1.11639453e-05, 7.17133980e-06, 3.90336894e-06,\n",
       "        3.56904814e-06, 1.75499855e-06, 2.99967910e-06, 5.64139578e-06,\n",
       "        2.53520252e-06, 5.46016407e-06, 5.41354637e-06, 5.03125574e-06,\n",
       "        2.71896271e-06, 3.53722527e-06, 2.22978278e-06, 3.51262511e-06,\n",
       "        2.64331577e-06, 4.23961411e-06, 3.09420660e-06, 3.94901752e-06],\n",
       "       [2.11942118e-05, 1.14641245e-05, 9.33379345e-06, 5.83742425e-06,\n",
       "        4.01694702e-06, 3.31536276e-06, 4.03021303e-06, 7.31434046e-06,\n",
       "        2.25160043e-06, 9.78811567e-06, 5.91753163e-06, 6.76093673e-06,\n",
       "        2.93082261e-06, 3.82539093e-06, 1.52700575e-06, 3.34964901e-06,\n",
       "        4.25468878e-06, 5.09700429e-06, 3.81615212e-06, 2.96220278e-06],\n",
       "       [2.64843747e-05, 1.90527760e-05, 1.15744587e-05, 7.55978393e-06,\n",
       "        5.22902146e-06, 2.82228221e-06, 5.90425346e-06, 7.33502669e-06,\n",
       "        7.14959079e-06, 9.04535489e-06, 9.10350058e-06, 8.78614753e-06,\n",
       "        2.75888399e-06, 6.80818835e-06, 3.88543861e-06, 4.73080280e-06,\n",
       "        5.56268767e-06, 5.29703807e-06, 5.19786386e-06, 5.19640781e-06],\n",
       "       [2.16364044e-05, 1.38715664e-05, 9.32074543e-06, 5.92488238e-06,\n",
       "        3.72943030e-06, 2.56317636e-06, 4.24615356e-06, 6.76050655e-06,\n",
       "        3.24529687e-06, 8.39842837e-06, 6.45318836e-06, 5.89572595e-06,\n",
       "        2.30550301e-06, 4.79478467e-06, 2.24504783e-06, 3.29673705e-06,\n",
       "        3.72124817e-06, 5.44443568e-06, 3.45711925e-06, 4.44448944e-06],\n",
       "       [1.06389574e-05, 9.68241262e-06, 6.52603357e-06, 3.46530151e-06,\n",
       "        3.67068521e-06, 2.54170540e-06, 2.75350441e-06, 6.01079030e-06,\n",
       "        2.52027695e-06, 4.10478880e-06, 6.12225230e-06, 6.13676674e-06,\n",
       "        2.90451859e-06, 2.72783170e-06, 2.49667590e-06, 4.33229150e-06,\n",
       "        2.44324546e-06, 3.58608964e-06, 3.32287351e-06, 4.24879992e-06],\n",
       "       [3.79359053e-06, 3.11222591e-06, 2.66071410e-06, 8.50872924e-07,\n",
       "        2.27995129e-06, 1.89798008e-06, 2.04634395e-06, 5.05119029e-06,\n",
       "        2.66155101e-06, 4.62790472e-06, 4.47675132e-06, 4.52475620e-06,\n",
       "        2.99014431e-06, 2.07179457e-06, 1.22002019e-06, 2.58068026e-06,\n",
       "        1.83767333e-06, 3.05744689e-06, 1.44996401e-06, 2.07535280e-06],\n",
       "       [7.25336719e-06, 6.61930647e-06, 4.47828848e-06, 2.02058900e-06,\n",
       "        2.92298628e-06, 2.18475269e-06, 1.72685757e-06, 4.98391552e-06,\n",
       "        2.27054329e-06, 4.02429605e-06, 4.78025532e-06, 4.82692687e-06,\n",
       "        3.09030005e-06, 2.42895749e-06, 1.40578965e-06, 3.07674873e-06,\n",
       "        2.56967573e-06, 3.59649150e-06, 2.25650249e-06, 2.41748640e-06],\n",
       "       [1.29001807e-05, 8.25481804e-06, 4.83303605e-06, 2.66285872e-06,\n",
       "        4.09934196e-06, 2.24315468e-06, 2.73908004e-06, 5.57443123e-06,\n",
       "        3.15888961e-06, 4.39868659e-06, 5.19625762e-06, 5.13864051e-06,\n",
       "        3.46778661e-06, 2.45877274e-06, 1.62716081e-06, 3.85887790e-06,\n",
       "        2.62404213e-06, 3.79046202e-06, 2.25876548e-06, 3.46934053e-06],\n",
       "       [9.93381360e-06, 8.86346941e-06, 7.02597936e-06, 3.77495062e-06,\n",
       "        2.78276073e-06, 4.17347604e-06, 2.72027630e-06, 5.90144169e-06,\n",
       "        4.66107546e-06, 6.80703576e-06, 6.83578293e-06, 7.36496190e-06,\n",
       "        1.93111252e-06, 7.39441036e-06, 7.75606134e-06, 5.82344680e-06,\n",
       "        4.75765999e-06, 7.90103683e-06, 3.29445052e-06, 1.00502731e-05],\n",
       "       [1.35079463e-05, 8.44687768e-06, 9.03610130e-06, 3.24170214e-06,\n",
       "        2.85232351e-06, 1.12235891e-06, 3.80277066e-06, 5.47878292e-06,\n",
       "        3.60036860e-06, 5.16938988e-06, 4.54442366e-06, 5.07731295e-06,\n",
       "        2.92234457e-06, 3.42630943e-06, 3.53778573e-06, 2.80206757e-06,\n",
       "        2.82998754e-06, 4.85677938e-06, 3.45487382e-06, 3.71613878e-06],\n",
       "       [1.34528533e-05, 7.37040525e-06, 5.99630193e-06, 2.64980019e-06,\n",
       "        2.80164210e-06, 1.38805814e-06, 2.54743650e-06, 4.53106990e-06,\n",
       "        2.76944797e-06, 5.56906916e-06, 4.44295195e-06, 5.62501625e-06,\n",
       "        3.13654336e-06, 3.50441042e-06, 3.02257654e-06, 2.94472734e-06,\n",
       "        2.08102868e-06, 3.42066063e-06, 2.56544734e-06, 3.68940764e-06],\n",
       "       [1.26416438e-05, 8.21564976e-06, 7.32429028e-06, 3.21420204e-06,\n",
       "        2.88052301e-06, 1.35733149e-06, 3.19850220e-06, 4.64449370e-06,\n",
       "        2.74095176e-06, 4.17201945e-06, 4.65650397e-06, 6.44489556e-06,\n",
       "        3.32125773e-06, 3.51678070e-06, 3.47217807e-06, 3.91380583e-06,\n",
       "        2.55634837e-06, 4.70580152e-06, 3.31296116e-06, 3.74152692e-06],\n",
       "       [9.92003976e-06, 7.93413605e-06, 9.52904881e-06, 3.89882838e-06,\n",
       "        6.90357610e-06, 4.97782807e-06, 6.98954022e-06, 7.63605461e-06,\n",
       "        1.35588635e-05, 1.16066208e-05, 2.43654071e-05, 1.48213234e-05,\n",
       "        1.44198504e-05, 7.68137254e-06, 1.22233964e-05, 1.13730321e-05,\n",
       "        1.45527581e-05, 2.00510791e-05, 1.04695322e-05, 1.96998626e-05],\n",
       "       [7.27971731e-06, 6.50336954e-06, 4.43140507e-06, 2.79354974e-06,\n",
       "        2.17274532e-06, 1.54003280e-06, 1.42457915e-06, 3.63590277e-06,\n",
       "        3.30717790e-06, 2.62567285e-06, 4.37000539e-06, 6.05362806e-06,\n",
       "        4.04341697e-06, 3.16078344e-06, 4.63376440e-06, 2.98087308e-06,\n",
       "        3.68337332e-06, 5.34475544e-06, 4.32959478e-06, 1.74466639e-06],\n",
       "       [6.44225451e-06, 7.04285857e-06, 5.87848113e-06, 2.36561103e-06,\n",
       "        2.49151535e-06, 1.16890679e-06, 2.76384779e-06, 5.32600463e-06,\n",
       "        2.05842377e-06, 3.92910954e-06, 3.59793341e-06, 5.03612206e-06,\n",
       "        3.31476525e-06, 2.41949139e-06, 3.08072405e-06, 2.64163219e-06,\n",
       "        4.38343988e-06, 4.27437146e-06, 4.29128281e-06, 2.80087617e-06],\n",
       "       [7.96100221e-06, 3.29086829e-06, 2.21448672e-06, 1.22368016e-06,\n",
       "        2.70749520e-06, 1.94018828e-06, 2.94842747e-06, 4.68996435e-06,\n",
       "        2.67456868e-06, 4.98030212e-06, 5.43291430e-06, 5.00925131e-06,\n",
       "        3.44630690e-06, 2.88566954e-06, 1.68091094e-06, 3.04390518e-06,\n",
       "        1.96551802e-06, 2.86428852e-06, 1.13946527e-06, 2.29759291e-06],\n",
       "       [1.55573260e-05, 7.37774542e-06, 5.13768161e-06, 2.66641938e-06,\n",
       "        3.81885719e-06, 1.89727234e-06, 2.31377437e-06, 4.66757816e-06,\n",
       "        2.97762096e-06, 4.60142396e-06, 4.97616327e-06, 5.17674264e-06,\n",
       "        3.95290466e-06, 2.86000063e-06, 2.00392319e-06, 3.54825594e-06,\n",
       "        1.97387464e-06, 3.47174236e-06, 2.11812463e-06, 3.38728885e-06],\n",
       "       [1.81434067e-05, 7.06042952e-06, 4.87495735e-06, 1.93077862e-06,\n",
       "        3.82735183e-06, 1.94327223e-06, 2.32905387e-06, 4.49495069e-06,\n",
       "        2.94126359e-06, 5.03398221e-06, 5.07517552e-06, 6.34759187e-06,\n",
       "        4.47566278e-06, 3.20128495e-06, 2.10999018e-06, 3.14579315e-06,\n",
       "        2.06458101e-06, 3.21206307e-06, 2.00474837e-06, 3.23908264e-06],\n",
       "       [1.33849811e-05, 4.92311630e-06, 5.24259361e-06, 2.20968603e-06,\n",
       "        2.61778139e-06, 1.56365456e-06, 2.21212286e-06, 4.12098923e-06,\n",
       "        2.95101572e-06, 5.75245248e-06, 4.90862883e-06, 6.67665426e-06,\n",
       "        4.10343594e-06, 3.61608055e-06, 2.38157596e-06, 3.11522812e-06,\n",
       "        2.72563570e-06, 3.99496261e-06, 2.25908037e-06, 3.49763948e-06],\n",
       "       [1.52049879e-05, 4.46233084e-06, 4.48439131e-06, 1.72249829e-06,\n",
       "        3.34090093e-06, 1.43730733e-06, 2.67525791e-06, 4.40297125e-06,\n",
       "        2.71813904e-06, 5.38998579e-06, 4.53010459e-06, 6.29302498e-06,\n",
       "        4.07733407e-06, 3.38382879e-06, 2.41355910e-06, 3.04547669e-06,\n",
       "        2.01080921e-06, 3.57159758e-06, 1.79627539e-06, 3.20905233e-06],\n",
       "       [1.96072033e-05, 7.75975386e-06, 7.96371572e-06, 3.73387215e-06,\n",
       "        3.03780699e-06, 1.37810861e-06, 3.31200904e-06, 5.57434634e-06,\n",
       "        3.31952333e-06, 5.07423730e-06, 4.81647164e-06, 5.27676490e-06,\n",
       "        3.16404219e-06, 3.86978051e-06, 3.52569129e-06, 2.56072546e-06,\n",
       "        2.33699711e-06, 4.25545814e-06, 2.89866863e-06, 3.46812877e-06],\n",
       "       [2.43857141e-05, 1.08393414e-05, 1.20955712e-05, 5.35730540e-06,\n",
       "        1.02242162e-05, 6.53963941e-06, 1.49976278e-05, 6.47142863e-06,\n",
       "        8.41947539e-06, 1.23861260e-05, 1.60152718e-05, 1.50488782e-05,\n",
       "        9.50394622e-06, 1.37790398e-05, 7.66190889e-06, 1.07685760e-05,\n",
       "        8.32021056e-06, 1.25337338e-05, 7.34409567e-06, 4.59228820e-06],\n",
       "       [1.91033328e-05, 1.85507105e-05, 1.31652032e-05, 6.00216777e-06,\n",
       "        7.53958571e-06, 5.56100014e-06, 5.17631717e-06, 9.16844520e-06,\n",
       "        6.51845376e-06, 8.70041018e-06, 7.64186398e-06, 5.96472646e-06,\n",
       "        2.67100800e-06, 9.02126477e-06, 6.47177260e-06, 5.68047147e-06,\n",
       "        5.52356466e-06, 6.32993675e-06, 6.24779863e-06, 6.27901188e-06],\n",
       "       [1.84833591e-05, 1.42713105e-05, 1.41295730e-05, 6.26475880e-06,\n",
       "        4.87211401e-06, 3.15932005e-06, 6.56631243e-06, 8.75051230e-06,\n",
       "        6.79248734e-06, 6.93581823e-06, 5.29520052e-06, 6.75900795e-06,\n",
       "        3.04539090e-06, 5.37260249e-06, 5.23386194e-06, 2.18150056e-06,\n",
       "        4.87908915e-06, 6.61225869e-06, 3.79425248e-06, 3.71322130e-06]])"
      ]
     },
     "execution_count": 12,
     "metadata": {},
     "output_type": "execute_result"
    }
   ],
   "source": [
    "calc_spectrum_all_channels(e0, 20, fs)"
   ]
  },
  {
   "cell_type": "code",
   "execution_count": 13,
   "id": "b582959b",
   "metadata": {},
   "outputs": [],
   "source": [
    "band_count = 20\n",
    "all_epochs_band_powers = np.zeros((epochs_list.shape[0], epochs_list.shape[1], 20))\n",
    "for i in range(epochs_list.shape[0]):\n",
    "    for j in range(epochs_list.shape[1]):\n",
    "        all_epochs_band_powers[i] = calc_spectrum_all_channels(epochs_list[i], band_count, fs)"
   ]
  },
  {
   "cell_type": "code",
   "execution_count": 14,
   "id": "06a99395",
   "metadata": {},
   "outputs": [
    {
     "data": {
      "text/plain": [
       "array([[[1.69804808e-05, 7.87703399e-06, 5.29325765e-06, ...,\n",
       "         3.79386557e-06, 2.23007030e-06, 3.51243271e-06],\n",
       "        [2.38896386e-05, 8.08923336e-06, 5.53178161e-06, ...,\n",
       "         3.61447185e-06, 2.27670030e-06, 3.56422654e-06],\n",
       "        [1.70832749e-05, 1.03702119e-05, 6.08457997e-06, ...,\n",
       "         3.58452191e-06, 2.52307492e-06, 3.29316993e-06],\n",
       "        ...,\n",
       "        [2.43857141e-05, 1.08393414e-05, 1.20955712e-05, ...,\n",
       "         1.25337338e-05, 7.34409567e-06, 4.59228820e-06],\n",
       "        [1.91033328e-05, 1.85507105e-05, 1.31652032e-05, ...,\n",
       "         6.32993675e-06, 6.24779863e-06, 6.27901188e-06],\n",
       "        [1.84833591e-05, 1.42713105e-05, 1.41295730e-05, ...,\n",
       "         6.61225869e-06, 3.79425248e-06, 3.71322130e-06]],\n",
       "\n",
       "       [[2.15924772e-05, 6.11178238e-06, 6.36459923e-06, ...,\n",
       "         1.07719092e-06, 1.70818105e-06, 1.58848987e-06],\n",
       "        [2.02675579e-05, 6.45784092e-06, 6.55852245e-06, ...,\n",
       "         1.30285643e-06, 1.91599155e-06, 1.62368528e-06],\n",
       "        [1.47121946e-05, 6.12563678e-06, 6.12683801e-06, ...,\n",
       "         1.46108955e-06, 2.32965130e-06, 1.65708839e-06],\n",
       "        ...,\n",
       "        [2.26314254e-05, 1.21068606e-05, 8.40952554e-06, ...,\n",
       "         3.45817952e-06, 1.03380900e-05, 9.54520378e-06],\n",
       "        [3.39926935e-05, 8.67634236e-06, 1.10842260e-05, ...,\n",
       "         7.71707065e-06, 5.33557419e-06, 3.48882297e-06],\n",
       "        [2.84289937e-05, 6.30178966e-06, 1.00655188e-05, ...,\n",
       "         2.33323388e-06, 2.58664534e-06, 3.34576319e-06]],\n",
       "\n",
       "       [[6.69665672e-06, 4.82318847e-06, 3.07779622e-06, ...,\n",
       "         1.29413126e-06, 3.26416908e-06, 1.73730477e-06],\n",
       "        [8.98390511e-06, 6.25110704e-06, 4.41954349e-06, ...,\n",
       "         1.12082917e-06, 3.70587077e-06, 1.72466592e-06],\n",
       "        [7.58195118e-06, 6.35819555e-06, 3.55228366e-06, ...,\n",
       "         1.16021131e-06, 3.59033829e-06, 1.65762447e-06],\n",
       "        ...,\n",
       "        [1.64220566e-05, 4.92646190e-06, 3.74603195e-06, ...,\n",
       "         6.00511049e-06, 1.82047520e-05, 7.15201618e-06],\n",
       "        [7.16874873e-06, 3.67083376e-06, 4.29302211e-06, ...,\n",
       "         4.67145200e-06, 5.27749994e-06, 3.48074980e-06],\n",
       "        [9.51882518e-06, 5.32678273e-06, 4.55634836e-06, ...,\n",
       "         2.22507149e-06, 7.45178134e-06, 2.55831272e-06]],\n",
       "\n",
       "       ...,\n",
       "\n",
       "       [[9.39522499e-06, 9.70829280e-06, 4.69568684e-06, ...,\n",
       "         5.84384841e-06, 4.98674954e-06, 6.04100547e-06],\n",
       "        [1.21530757e-05, 1.20561817e-05, 4.75766240e-06, ...,\n",
       "         5.44506904e-06, 4.81286180e-06, 5.40493203e-06],\n",
       "        [1.07879109e-05, 1.09381782e-05, 5.13190783e-06, ...,\n",
       "         4.98795452e-06, 4.73870295e-06, 5.70983284e-06],\n",
       "        ...,\n",
       "        [1.13854843e-05, 1.10924949e-05, 7.38490025e-06, ...,\n",
       "         6.96164738e-06, 1.89629870e-05, 1.52274691e-05],\n",
       "        [1.93843256e-05, 1.53400195e-05, 7.59591502e-06, ...,\n",
       "         8.17694189e-06, 8.81240833e-06, 8.26234055e-06],\n",
       "        [1.42848370e-05, 1.43444784e-05, 8.48629327e-06, ...,\n",
       "         7.37823007e-06, 7.58069050e-06, 7.62926986e-06]],\n",
       "\n",
       "       [[9.17603780e-06, 1.78846740e-05, 5.06178137e-06, ...,\n",
       "         2.50492544e-06, 7.61095166e-06, 3.81554624e-06],\n",
       "        [1.24709912e-05, 1.76346171e-05, 6.33049547e-06, ...,\n",
       "         2.26403728e-06, 7.54796861e-06, 3.59527820e-06],\n",
       "        [8.29643813e-06, 1.55897737e-05, 4.88352622e-06, ...,\n",
       "         2.21228716e-06, 7.99108544e-06, 3.26166407e-06],\n",
       "        ...,\n",
       "        [3.51912066e-05, 2.29101162e-05, 7.33199879e-06, ...,\n",
       "         6.73405332e-06, 2.12077707e-05, 4.76702082e-06],\n",
       "        [3.44761427e-05, 3.72760242e-05, 1.00874748e-05, ...,\n",
       "         4.74266317e-06, 1.10898055e-05, 6.12775294e-06],\n",
       "        [3.71148702e-05, 2.46758721e-05, 8.44855136e-06, ...,\n",
       "         4.39935644e-06, 8.17314732e-06, 5.08095272e-06]],\n",
       "\n",
       "       [[1.58485700e-05, 2.04027461e-05, 1.70286027e-06, ...,\n",
       "         2.01659110e-06, 3.13779034e-06, 6.62701319e-06],\n",
       "        [3.06716155e-05, 3.02106188e-05, 6.60091509e-06, ...,\n",
       "         2.46581368e-06, 3.05001658e-06, 6.87919830e-06],\n",
       "        [2.33803402e-05, 2.12585778e-05, 4.36446491e-06, ...,\n",
       "         2.29911881e-06, 2.89239798e-06, 7.29691272e-06],\n",
       "        ...,\n",
       "        [1.85940153e-05, 2.25045704e-05, 6.24458136e-06, ...,\n",
       "         8.89589140e-06, 9.04745062e-06, 4.23247103e-06],\n",
       "        [2.66397494e-05, 3.15385286e-05, 4.42343995e-06, ...,\n",
       "         1.49561305e-06, 5.50032733e-06, 9.44699601e-06],\n",
       "        [2.20218569e-05, 2.97073686e-05, 4.37617325e-06, ...,\n",
       "         1.59623360e-06, 3.81182858e-06, 5.26645867e-06]]],\n",
       "      shape=(20, 31, 20))"
      ]
     },
     "execution_count": 14,
     "metadata": {},
     "output_type": "execute_result"
    }
   ],
   "source": [
    "all_epochs_band_powers"
   ]
  },
  {
   "cell_type": "code",
   "execution_count": 15,
   "metadata": {},
   "outputs": [
    {
     "name": "stdout",
     "output_type": "stream",
     "text": [
      "特徴量のshape: (20, 620)\n",
      "ラベルのshape: (20,)\n"
     ]
    }
   ],
   "source": [
    "# 特徴量を2次元配列に変換（サンプル数×特徴量）\n",
    "# 31*20=620の特徴量を持つ40個のデータに変換\n",
    "X = all_epochs_band_powers.reshape(all_epochs_band_powers.shape[0], -1)\n",
    "print(f\"特徴量のshape: {X.shape}\")\n",
    "print(f\"ラベルのshape: {labels.shape}\")"
   ]
  },
  {
   "cell_type": "code",
   "execution_count": 16,
   "id": "f2e44769",
   "metadata": {},
   "outputs": [],
   "source": [
    "# トレーニングデータとテストデータに分割\n",
    "X_train, X_test, y_train, y_test = train_test_split(X, labels, test_size=0.3, random_state=42, stratify=labels)"
   ]
  },
  {
   "cell_type": "code",
   "execution_count": 17,
   "id": "3eecd30e",
   "metadata": {},
   "outputs": [],
   "source": [
    "# 特徴量のスケーリング\n",
    "scaler = StandardScaler()\n",
    "X_train_scaled = scaler.fit_transform(X_train)\n",
    "X_test_scaled = scaler.transform(X_test)"
   ]
  },
  {
   "cell_type": "code",
   "execution_count": 18,
   "id": "29c1ed1a",
   "metadata": {},
   "outputs": [
    {
     "name": "stdout",
     "output_type": "stream",
     "text": [
      "分類レポート:\n",
      "              precision    recall  f1-score   support\n",
      "\n",
      "           1       0.00      0.00      0.00         2\n",
      "           2       0.25      1.00      0.40         1\n",
      "           3       0.00      0.00      0.00         2\n",
      "           4       0.00      0.00      0.00         1\n",
      "\n",
      "    accuracy                           0.17         6\n",
      "   macro avg       0.06      0.25      0.10         6\n",
      "weighted avg       0.04      0.17      0.07         6\n",
      "\n",
      "ラベルの分布:\n",
      "ラベル 1: 5個\n",
      "ラベル 2: 5個\n",
      "ラベル 3: 5個\n",
      "ラベル 4: 5個\n"
     ]
    },
    {
     "name": "stderr",
     "output_type": "stream",
     "text": [
      "/home/neuron/Documents/mi-analyze/.venv/lib/python3.12/site-packages/sklearn/metrics/_classification.py:1565: UndefinedMetricWarning: Precision is ill-defined and being set to 0.0 in labels with no predicted samples. Use `zero_division` parameter to control this behavior.\n",
      "  _warn_prf(average, modifier, f\"{metric.capitalize()} is\", len(result))\n",
      "/home/neuron/Documents/mi-analyze/.venv/lib/python3.12/site-packages/sklearn/metrics/_classification.py:1565: UndefinedMetricWarning: Precision is ill-defined and being set to 0.0 in labels with no predicted samples. Use `zero_division` parameter to control this behavior.\n",
      "  _warn_prf(average, modifier, f\"{metric.capitalize()} is\", len(result))\n",
      "/home/neuron/Documents/mi-analyze/.venv/lib/python3.12/site-packages/sklearn/metrics/_classification.py:1565: UndefinedMetricWarning: Precision is ill-defined and being set to 0.0 in labels with no predicted samples. Use `zero_division` parameter to control this behavior.\n",
      "  _warn_prf(average, modifier, f\"{metric.capitalize()} is\", len(result))\n"
     ]
    }
   ],
   "source": [
    "# SVMモデルの作成と学習\n",
    "svm = SVC(kernel='rbf', C=1.0, gamma='scale', random_state=42)\n",
    "svm.fit(X_train_scaled, y_train)\n",
    "\n",
    "# テストデータで予測\n",
    "y_pred = svm.predict(X_test_scaled)\n",
    "\n",
    "# 評価\n",
    "print(\"分類レポート:\")\n",
    "print(classification_report(y_test, y_pred))# ラベルの分布を確認\n",
    "unique_labels, counts = np.unique(labels, return_counts=True)\n",
    "print(\"ラベルの分布:\")\n",
    "for label, count in zip(unique_labels, counts):\n",
    "    print(f\"ラベル {label}: {count}個\")"
   ]
  },
  {
   "cell_type": "code",
   "execution_count": 19,
   "id": "0a233a5d",
   "metadata": {},
   "outputs": [
    {
     "name": "stderr",
     "output_type": "stream",
     "text": [
      "/home/neuron/Documents/mi-analyze/.venv/lib/python3.12/site-packages/IPython/core/pylabtools.py:170: UserWarning: Glyph 23455 (\\N{CJK UNIFIED IDEOGRAPH-5B9F}) missing from font(s) DejaVu Sans.\n",
      "  fig.canvas.print_figure(bytes_io, **kw)\n",
      "/home/neuron/Documents/mi-analyze/.venv/lib/python3.12/site-packages/IPython/core/pylabtools.py:170: UserWarning: Glyph 38555 (\\N{CJK UNIFIED IDEOGRAPH-969B}) missing from font(s) DejaVu Sans.\n",
      "  fig.canvas.print_figure(bytes_io, **kw)\n",
      "/home/neuron/Documents/mi-analyze/.venv/lib/python3.12/site-packages/IPython/core/pylabtools.py:170: UserWarning: Glyph 12398 (\\N{HIRAGANA LETTER NO}) missing from font(s) DejaVu Sans.\n",
      "  fig.canvas.print_figure(bytes_io, **kw)\n",
      "/home/neuron/Documents/mi-analyze/.venv/lib/python3.12/site-packages/IPython/core/pylabtools.py:170: UserWarning: Glyph 12521 (\\N{KATAKANA LETTER RA}) missing from font(s) DejaVu Sans.\n",
      "  fig.canvas.print_figure(bytes_io, **kw)\n",
      "/home/neuron/Documents/mi-analyze/.venv/lib/python3.12/site-packages/IPython/core/pylabtools.py:170: UserWarning: Glyph 12505 (\\N{KATAKANA LETTER BE}) missing from font(s) DejaVu Sans.\n",
      "  fig.canvas.print_figure(bytes_io, **kw)\n",
      "/home/neuron/Documents/mi-analyze/.venv/lib/python3.12/site-packages/IPython/core/pylabtools.py:170: UserWarning: Glyph 12523 (\\N{KATAKANA LETTER RU}) missing from font(s) DejaVu Sans.\n",
      "  fig.canvas.print_figure(bytes_io, **kw)\n",
      "/home/neuron/Documents/mi-analyze/.venv/lib/python3.12/site-packages/IPython/core/pylabtools.py:170: UserWarning: Glyph 28151 (\\N{CJK UNIFIED IDEOGRAPH-6DF7}) missing from font(s) DejaVu Sans.\n",
      "  fig.canvas.print_figure(bytes_io, **kw)\n",
      "/home/neuron/Documents/mi-analyze/.venv/lib/python3.12/site-packages/IPython/core/pylabtools.py:170: UserWarning: Glyph 21516 (\\N{CJK UNIFIED IDEOGRAPH-540C}) missing from font(s) DejaVu Sans.\n",
      "  fig.canvas.print_figure(bytes_io, **kw)\n",
      "/home/neuron/Documents/mi-analyze/.venv/lib/python3.12/site-packages/IPython/core/pylabtools.py:170: UserWarning: Glyph 34892 (\\N{CJK UNIFIED IDEOGRAPH-884C}) missing from font(s) DejaVu Sans.\n",
      "  fig.canvas.print_figure(bytes_io, **kw)\n",
      "/home/neuron/Documents/mi-analyze/.venv/lib/python3.12/site-packages/IPython/core/pylabtools.py:170: UserWarning: Glyph 21015 (\\N{CJK UNIFIED IDEOGRAPH-5217}) missing from font(s) DejaVu Sans.\n",
      "  fig.canvas.print_figure(bytes_io, **kw)\n",
      "/home/neuron/Documents/mi-analyze/.venv/lib/python3.12/site-packages/IPython/core/pylabtools.py:170: UserWarning: Glyph 20104 (\\N{CJK UNIFIED IDEOGRAPH-4E88}) missing from font(s) DejaVu Sans.\n",
      "  fig.canvas.print_figure(bytes_io, **kw)\n",
      "/home/neuron/Documents/mi-analyze/.venv/lib/python3.12/site-packages/IPython/core/pylabtools.py:170: UserWarning: Glyph 28204 (\\N{CJK UNIFIED IDEOGRAPH-6E2C}) missing from font(s) DejaVu Sans.\n",
      "  fig.canvas.print_figure(bytes_io, **kw)\n"
     ]
    },
    {
     "data": {
      "image/png": "[encoded data removed]",
      "text/plain": [
       "<Figure size 800x600 with 2 Axes>"
      ]
     },
     "metadata": {},
     "output_type": "display_data"
    }
   ],
   "source": [
    "# 混同行列の表示\n",
    "cm = confusion_matrix(y_test, y_pred)\n",
    "plt.figure(figsize=(8, 6))\n",
    "sns.heatmap(cm, annot=True, fmt='d', cmap='Blues', \n",
    "           xticklabels=unique_labels, \n",
    "           yticklabels=unique_labels)\n",
    "plt.xlabel('予測ラベル')\n",
    "plt.ylabel('実際のラベル')\n",
    "plt.title('混同行列')\n",
    "plt.show()"
   ]
  },
  {
   "cell_type": "code",
   "execution_count": 20,
   "id": "d88725da",
   "metadata": {},
   "outputs": [
    {
     "ename": "ValueError",
     "evalue": "n_splits=5 cannot be greater than the number of members in each class.",
     "output_type": "error",
     "traceback": [
      "\u001b[31m---------------------------------------------------------------------------\u001b[39m",
      "\u001b[31mValueError\u001b[39m                                Traceback (most recent call last)",
      "\u001b[36mCell\u001b[39m\u001b[36m \u001b[39m\u001b[32mIn[20]\u001b[39m\u001b[32m, line 2\u001b[39m\n\u001b[32m      1\u001b[39m \u001b[38;5;66;03m# クロスバリデーションで評価\u001b[39;00m\n\u001b[32m----> \u001b[39m\u001b[32m2\u001b[39m cv_scores = \u001b[43mcross_val_score\u001b[49m\u001b[43m(\u001b[49m\u001b[43msvm\u001b[49m\u001b[43m,\u001b[49m\u001b[43m \u001b[49m\u001b[43mX_train_scaled\u001b[49m\u001b[43m,\u001b[49m\u001b[43m \u001b[49m\u001b[43my_train\u001b[49m\u001b[43m,\u001b[49m\u001b[43m \u001b[49m\u001b[43mcv\u001b[49m\u001b[43m=\u001b[49m\u001b[32;43m5\u001b[39;49m\u001b[43m)\u001b[49m\n\u001b[32m      3\u001b[39m \u001b[38;5;28mprint\u001b[39m(\u001b[33mf\u001b[39m\u001b[33m\"\u001b[39m\u001b[33mクロスバリデーションスコア: \u001b[39m\u001b[38;5;132;01m{\u001b[39;00mcv_scores\u001b[38;5;132;01m}\u001b[39;00m\u001b[33m\"\u001b[39m)\n\u001b[32m      4\u001b[39m \u001b[38;5;28mprint\u001b[39m(\u001b[33mf\u001b[39m\u001b[33m\"\u001b[39m\u001b[33m平均精度: \u001b[39m\u001b[38;5;132;01m{\u001b[39;00mcv_scores.mean()\u001b[38;5;132;01m:\u001b[39;00m\u001b[33m.4f\u001b[39m\u001b[38;5;132;01m}\u001b[39;00m\u001b[33m ± \u001b[39m\u001b[38;5;132;01m{\u001b[39;00mcv_scores.std()\u001b[38;5;132;01m:\u001b[39;00m\u001b[33m.4f\u001b[39m\u001b[38;5;132;01m}\u001b[39;00m\u001b[33m\"\u001b[39m)\n",
      "\u001b[36mFile \u001b[39m\u001b[32m~/Documents/mi-analyze/.venv/lib/python3.12/site-packages/sklearn/utils/_param_validation.py:216\u001b[39m, in \u001b[36mvalidate_params.<locals>.decorator.<locals>.wrapper\u001b[39m\u001b[34m(*args, **kwargs)\u001b[39m\n\u001b[32m    210\u001b[39m \u001b[38;5;28;01mtry\u001b[39;00m:\n\u001b[32m    211\u001b[39m     \u001b[38;5;28;01mwith\u001b[39;00m config_context(\n\u001b[32m    212\u001b[39m         skip_parameter_validation=(\n\u001b[32m    213\u001b[39m             prefer_skip_nested_validation \u001b[38;5;129;01mor\u001b[39;00m global_skip_validation\n\u001b[32m    214\u001b[39m         )\n\u001b[32m    215\u001b[39m     ):\n\u001b[32m--> \u001b[39m\u001b[32m216\u001b[39m         \u001b[38;5;28;01mreturn\u001b[39;00m \u001b[43mfunc\u001b[49m\u001b[43m(\u001b[49m\u001b[43m*\u001b[49m\u001b[43margs\u001b[49m\u001b[43m,\u001b[49m\u001b[43m \u001b[49m\u001b[43m*\u001b[49m\u001b[43m*\u001b[49m\u001b[43mkwargs\u001b[49m\u001b[43m)\u001b[49m\n\u001b[32m    217\u001b[39m \u001b[38;5;28;01mexcept\u001b[39;00m InvalidParameterError \u001b[38;5;28;01mas\u001b[39;00m e:\n\u001b[32m    218\u001b[39m     \u001b[38;5;66;03m# When the function is just a wrapper around an estimator, we allow\u001b[39;00m\n\u001b[32m    219\u001b[39m     \u001b[38;5;66;03m# the function to delegate validation to the estimator, but we replace\u001b[39;00m\n\u001b[32m    220\u001b[39m     \u001b[38;5;66;03m# the name of the estimator by the name of the function in the error\u001b[39;00m\n\u001b[32m    221\u001b[39m     \u001b[38;5;66;03m# message to avoid confusion.\u001b[39;00m\n\u001b[32m    222\u001b[39m     msg = re.sub(\n\u001b[32m    223\u001b[39m         \u001b[33mr\u001b[39m\u001b[33m\"\u001b[39m\u001b[33mparameter of \u001b[39m\u001b[33m\\\u001b[39m\u001b[33mw+ must be\u001b[39m\u001b[33m\"\u001b[39m,\n\u001b[32m    224\u001b[39m         \u001b[33mf\u001b[39m\u001b[33m\"\u001b[39m\u001b[33mparameter of \u001b[39m\u001b[38;5;132;01m{\u001b[39;00mfunc.\u001b[34m__qualname__\u001b[39m\u001b[38;5;132;01m}\u001b[39;00m\u001b[33m must be\u001b[39m\u001b[33m\"\u001b[39m,\n\u001b[32m    225\u001b[39m         \u001b[38;5;28mstr\u001b[39m(e),\n\u001b[32m    226\u001b[39m     )\n",
      "\u001b[36mFile \u001b[39m\u001b[32m~/Documents/mi-analyze/.venv/lib/python3.12/site-packages/sklearn/model_selection/_validation.py:684\u001b[39m, in \u001b[36mcross_val_score\u001b[39m\u001b[34m(estimator, X, y, groups, scoring, cv, n_jobs, verbose, params, pre_dispatch, error_score)\u001b[39m\n\u001b[32m    681\u001b[39m \u001b[38;5;66;03m# To ensure multimetric format is not supported\u001b[39;00m\n\u001b[32m    682\u001b[39m scorer = check_scoring(estimator, scoring=scoring)\n\u001b[32m--> \u001b[39m\u001b[32m684\u001b[39m cv_results = \u001b[43mcross_validate\u001b[49m\u001b[43m(\u001b[49m\n\u001b[32m    685\u001b[39m \u001b[43m    \u001b[49m\u001b[43mestimator\u001b[49m\u001b[43m=\u001b[49m\u001b[43mestimator\u001b[49m\u001b[43m,\u001b[49m\n\u001b[32m    686\u001b[39m \u001b[43m    \u001b[49m\u001b[43mX\u001b[49m\u001b[43m=\u001b[49m\u001b[43mX\u001b[49m\u001b[43m,\u001b[49m\n\u001b[32m    687\u001b[39m \u001b[43m    \u001b[49m\u001b[43my\u001b[49m\u001b[43m=\u001b[49m\u001b[43my\u001b[49m\u001b[43m,\u001b[49m\n\u001b[32m    688\u001b[39m \u001b[43m    \u001b[49m\u001b[43mgroups\u001b[49m\u001b[43m=\u001b[49m\u001b[43mgroups\u001b[49m\u001b[43m,\u001b[49m\n\u001b[32m    689\u001b[39m \u001b[43m    \u001b[49m\u001b[43mscoring\u001b[49m\u001b[43m=\u001b[49m\u001b[43m{\u001b[49m\u001b[33;43m\"\u001b[39;49m\u001b[33;43mscore\u001b[39;49m\u001b[33;43m\"\u001b[39;49m\u001b[43m:\u001b[49m\u001b[43m \u001b[49m\u001b[43mscorer\u001b[49m\u001b[43m}\u001b[49m\u001b[43m,\u001b[49m\n\u001b[32m    690\u001b[39m \u001b[43m    \u001b[49m\u001b[43mcv\u001b[49m\u001b[43m=\u001b[49m\u001b[43mcv\u001b[49m\u001b[43m,\u001b[49m\n\u001b[32m    691\u001b[39m \u001b[43m    \u001b[49m\u001b[43mn_jobs\u001b[49m\u001b[43m=\u001b[49m\u001b[43mn_jobs\u001b[49m\u001b[43m,\u001b[49m\n\u001b[32m    692\u001b[39m \u001b[43m    \u001b[49m\u001b[43mverbose\u001b[49m\u001b[43m=\u001b[49m\u001b[43mverbose\u001b[49m\u001b[43m,\u001b[49m\n\u001b[32m    693\u001b[39m \u001b[43m    \u001b[49m\u001b[43mparams\u001b[49m\u001b[43m=\u001b[49m\u001b[43mparams\u001b[49m\u001b[43m,\u001b[49m\n\u001b[32m    694\u001b[39m \u001b[43m    \u001b[49m\u001b[43mpre_dispatch\u001b[49m\u001b[43m=\u001b[49m\u001b[43mpre_dispatch\u001b[49m\u001b[43m,\u001b[49m\n\u001b[32m    695\u001b[39m \u001b[43m    \u001b[49m\u001b[43merror_score\u001b[49m\u001b[43m=\u001b[49m\u001b[43merror_score\u001b[49m\u001b[43m,\u001b[49m\n\u001b[32m    696\u001b[39m \u001b[43m\u001b[49m\u001b[43m)\u001b[49m\n\u001b[32m    697\u001b[39m \u001b[38;5;28;01mreturn\u001b[39;00m cv_results[\u001b[33m\"\u001b[39m\u001b[33mtest_score\u001b[39m\u001b[33m\"\u001b[39m]\n",
      "\u001b[36mFile \u001b[39m\u001b[32m~/Documents/mi-analyze/.venv/lib/python3.12/site-packages/sklearn/utils/_param_validation.py:216\u001b[39m, in \u001b[36mvalidate_params.<locals>.decorator.<locals>.wrapper\u001b[39m\u001b[34m(*args, **kwargs)\u001b[39m\n\u001b[32m    210\u001b[39m \u001b[38;5;28;01mtry\u001b[39;00m:\n\u001b[32m    211\u001b[39m     \u001b[38;5;28;01mwith\u001b[39;00m config_context(\n\u001b[32m    212\u001b[39m         skip_parameter_validation=(\n\u001b[32m    213\u001b[39m             prefer_skip_nested_validation \u001b[38;5;129;01mor\u001b[39;00m global_skip_validation\n\u001b[32m    214\u001b[39m         )\n\u001b[32m    215\u001b[39m     ):\n\u001b[32m--> \u001b[39m\u001b[32m216\u001b[39m         \u001b[38;5;28;01mreturn\u001b[39;00m \u001b[43mfunc\u001b[49m\u001b[43m(\u001b[49m\u001b[43m*\u001b[49m\u001b[43margs\u001b[49m\u001b[43m,\u001b[49m\u001b[43m \u001b[49m\u001b[43m*\u001b[49m\u001b[43m*\u001b[49m\u001b[43mkwargs\u001b[49m\u001b[43m)\u001b[49m\n\u001b[32m    217\u001b[39m \u001b[38;5;28;01mexcept\u001b[39;00m InvalidParameterError \u001b[38;5;28;01mas\u001b[39;00m e:\n\u001b[32m    218\u001b[39m     \u001b[38;5;66;03m# When the function is just a wrapper around an estimator, we allow\u001b[39;00m\n\u001b[32m    219\u001b[39m     \u001b[38;5;66;03m# the function to delegate validation to the estimator, but we replace\u001b[39;00m\n\u001b[32m    220\u001b[39m     \u001b[38;5;66;03m# the name of the estimator by the name of the function in the error\u001b[39;00m\n\u001b[32m    221\u001b[39m     \u001b[38;5;66;03m# message to avoid confusion.\u001b[39;00m\n\u001b[32m    222\u001b[39m     msg = re.sub(\n\u001b[32m    223\u001b[39m         \u001b[33mr\u001b[39m\u001b[33m\"\u001b[39m\u001b[33mparameter of \u001b[39m\u001b[33m\\\u001b[39m\u001b[33mw+ must be\u001b[39m\u001b[33m\"\u001b[39m,\n\u001b[32m    224\u001b[39m         \u001b[33mf\u001b[39m\u001b[33m\"\u001b[39m\u001b[33mparameter of \u001b[39m\u001b[38;5;132;01m{\u001b[39;00mfunc.\u001b[34m__qualname__\u001b[39m\u001b[38;5;132;01m}\u001b[39;00m\u001b[33m must be\u001b[39m\u001b[33m\"\u001b[39m,\n\u001b[32m    225\u001b[39m         \u001b[38;5;28mstr\u001b[39m(e),\n\u001b[32m    226\u001b[39m     )\n",
      "\u001b[36mFile \u001b[39m\u001b[32m~/Documents/mi-analyze/.venv/lib/python3.12/site-packages/sklearn/model_selection/_validation.py:411\u001b[39m, in \u001b[36mcross_validate\u001b[39m\u001b[34m(estimator, X, y, groups, scoring, cv, n_jobs, verbose, params, pre_dispatch, return_train_score, return_estimator, return_indices, error_score)\u001b[39m\n\u001b[32m    408\u001b[39m \u001b[38;5;66;03m# We clone the estimator to make sure that all the folds are\u001b[39;00m\n\u001b[32m    409\u001b[39m \u001b[38;5;66;03m# independent, and that it is pickle-able.\u001b[39;00m\n\u001b[32m    410\u001b[39m parallel = Parallel(n_jobs=n_jobs, verbose=verbose, pre_dispatch=pre_dispatch)\n\u001b[32m--> \u001b[39m\u001b[32m411\u001b[39m results = \u001b[43mparallel\u001b[49m\u001b[43m(\u001b[49m\n\u001b[32m    412\u001b[39m \u001b[43m    \u001b[49m\u001b[43mdelayed\u001b[49m\u001b[43m(\u001b[49m\u001b[43m_fit_and_score\u001b[49m\u001b[43m)\u001b[49m\u001b[43m(\u001b[49m\n\u001b[32m    413\u001b[39m \u001b[43m        \u001b[49m\u001b[43mclone\u001b[49m\u001b[43m(\u001b[49m\u001b[43mestimator\u001b[49m\u001b[43m)\u001b[49m\u001b[43m,\u001b[49m\n\u001b[32m    414\u001b[39m \u001b[43m        \u001b[49m\u001b[43mX\u001b[49m\u001b[43m,\u001b[49m\n\u001b[32m    415\u001b[39m \u001b[43m        \u001b[49m\u001b[43my\u001b[49m\u001b[43m,\u001b[49m\n\u001b[32m    416\u001b[39m \u001b[43m        \u001b[49m\u001b[43mscorer\u001b[49m\u001b[43m=\u001b[49m\u001b[43mscorers\u001b[49m\u001b[43m,\u001b[49m\n\u001b[32m    417\u001b[39m \u001b[43m        \u001b[49m\u001b[43mtrain\u001b[49m\u001b[43m=\u001b[49m\u001b[43mtrain\u001b[49m\u001b[43m,\u001b[49m\n\u001b[32m    418\u001b[39m \u001b[43m        \u001b[49m\u001b[43mtest\u001b[49m\u001b[43m=\u001b[49m\u001b[43mtest\u001b[49m\u001b[43m,\u001b[49m\n\u001b[32m    419\u001b[39m \u001b[43m        \u001b[49m\u001b[43mverbose\u001b[49m\u001b[43m=\u001b[49m\u001b[43mverbose\u001b[49m\u001b[43m,\u001b[49m\n\u001b[32m    420\u001b[39m \u001b[43m        \u001b[49m\u001b[43mparameters\u001b[49m\u001b[43m=\u001b[49m\u001b[38;5;28;43;01mNone\u001b[39;49;00m\u001b[43m,\u001b[49m\n\u001b[32m    421\u001b[39m \u001b[43m        \u001b[49m\u001b[43mfit_params\u001b[49m\u001b[43m=\u001b[49m\u001b[43mrouted_params\u001b[49m\u001b[43m.\u001b[49m\u001b[43mestimator\u001b[49m\u001b[43m.\u001b[49m\u001b[43mfit\u001b[49m\u001b[43m,\u001b[49m\n\u001b[32m    422\u001b[39m \u001b[43m        \u001b[49m\u001b[43mscore_params\u001b[49m\u001b[43m=\u001b[49m\u001b[43mrouted_params\u001b[49m\u001b[43m.\u001b[49m\u001b[43mscorer\u001b[49m\u001b[43m.\u001b[49m\u001b[43mscore\u001b[49m\u001b[43m,\u001b[49m\n\u001b[32m    423\u001b[39m \u001b[43m        \u001b[49m\u001b[43mreturn_train_score\u001b[49m\u001b[43m=\u001b[49m\u001b[43mreturn_train_score\u001b[49m\u001b[43m,\u001b[49m\n\u001b[32m    424\u001b[39m \u001b[43m        \u001b[49m\u001b[43mreturn_times\u001b[49m\u001b[43m=\u001b[49m\u001b[38;5;28;43;01mTrue\u001b[39;49;00m\u001b[43m,\u001b[49m\n\u001b[32m    425\u001b[39m \u001b[43m        \u001b[49m\u001b[43mreturn_estimator\u001b[49m\u001b[43m=\u001b[49m\u001b[43mreturn_estimator\u001b[49m\u001b[43m,\u001b[49m\n\u001b[32m    426\u001b[39m \u001b[43m        \u001b[49m\u001b[43merror_score\u001b[49m\u001b[43m=\u001b[49m\u001b[43merror_score\u001b[49m\u001b[43m,\u001b[49m\n\u001b[32m    427\u001b[39m \u001b[43m    \u001b[49m\u001b[43m)\u001b[49m\n\u001b[32m    428\u001b[39m \u001b[43m    \u001b[49m\u001b[38;5;28;43;01mfor\u001b[39;49;00m\u001b[43m \u001b[49m\u001b[43mtrain\u001b[49m\u001b[43m,\u001b[49m\u001b[43m \u001b[49m\u001b[43mtest\u001b[49m\u001b[43m \u001b[49m\u001b[38;5;129;43;01min\u001b[39;49;00m\u001b[43m \u001b[49m\u001b[43mindices\u001b[49m\n\u001b[32m    429\u001b[39m \u001b[43m\u001b[49m\u001b[43m)\u001b[49m\n\u001b[32m    431\u001b[39m _warn_or_raise_about_fit_failures(results, error_score)\n\u001b[32m    433\u001b[39m \u001b[38;5;66;03m# For callable scoring, the return type is only know after calling. If the\u001b[39;00m\n\u001b[32m    434\u001b[39m \u001b[38;5;66;03m# return type is a dictionary, the error scores can now be inserted with\u001b[39;00m\n\u001b[32m    435\u001b[39m \u001b[38;5;66;03m# the correct key.\u001b[39;00m\n",
      "\u001b[36mFile \u001b[39m\u001b[32m~/Documents/mi-analyze/.venv/lib/python3.12/site-packages/sklearn/utils/parallel.py:77\u001b[39m, in \u001b[36mParallel.__call__\u001b[39m\u001b[34m(self, iterable)\u001b[39m\n\u001b[32m     72\u001b[39m config = get_config()\n\u001b[32m     73\u001b[39m iterable_with_config = (\n\u001b[32m     74\u001b[39m     (_with_config(delayed_func, config), args, kwargs)\n\u001b[32m     75\u001b[39m     \u001b[38;5;28;01mfor\u001b[39;00m delayed_func, args, kwargs \u001b[38;5;129;01min\u001b[39;00m iterable\n\u001b[32m     76\u001b[39m )\n\u001b[32m---> \u001b[39m\u001b[32m77\u001b[39m \u001b[38;5;28;01mreturn\u001b[39;00m \u001b[38;5;28;43msuper\u001b[39;49m\u001b[43m(\u001b[49m\u001b[43m)\u001b[49m\u001b[43m.\u001b[49m\u001b[34;43m__call__\u001b[39;49m\u001b[43m(\u001b[49m\u001b[43miterable_with_config\u001b[49m\u001b[43m)\u001b[49m\n",
      "\u001b[36mFile \u001b[39m\u001b[32m~/Documents/mi-analyze/.venv/lib/python3.12/site-packages/joblib/parallel.py:1985\u001b[39m, in \u001b[36mParallel.__call__\u001b[39m\u001b[34m(self, iterable)\u001b[39m\n\u001b[32m   1983\u001b[39m     output = \u001b[38;5;28mself\u001b[39m._get_sequential_output(iterable)\n\u001b[32m   1984\u001b[39m     \u001b[38;5;28mnext\u001b[39m(output)\n\u001b[32m-> \u001b[39m\u001b[32m1985\u001b[39m     \u001b[38;5;28;01mreturn\u001b[39;00m output \u001b[38;5;28;01mif\u001b[39;00m \u001b[38;5;28mself\u001b[39m.return_generator \u001b[38;5;28;01melse\u001b[39;00m \u001b[38;5;28;43mlist\u001b[39;49m\u001b[43m(\u001b[49m\u001b[43moutput\u001b[49m\u001b[43m)\u001b[49m\n\u001b[32m   1987\u001b[39m \u001b[38;5;66;03m# Let's create an ID that uniquely identifies the current call. If the\u001b[39;00m\n\u001b[32m   1988\u001b[39m \u001b[38;5;66;03m# call is interrupted early and that the same instance is immediately\u001b[39;00m\n\u001b[32m   1989\u001b[39m \u001b[38;5;66;03m# reused, this id will be used to prevent workers that were\u001b[39;00m\n\u001b[32m   1990\u001b[39m \u001b[38;5;66;03m# concurrently finalizing a task from the previous call to run the\u001b[39;00m\n\u001b[32m   1991\u001b[39m \u001b[38;5;66;03m# callback.\u001b[39;00m\n\u001b[32m   1992\u001b[39m \u001b[38;5;28;01mwith\u001b[39;00m \u001b[38;5;28mself\u001b[39m._lock:\n",
      "\u001b[36mFile \u001b[39m\u001b[32m~/Documents/mi-analyze/.venv/lib/python3.12/site-packages/joblib/parallel.py:1910\u001b[39m, in \u001b[36mParallel._get_sequential_output\u001b[39m\u001b[34m(self, iterable)\u001b[39m\n\u001b[32m   1907\u001b[39m \u001b[38;5;28;01myield\u001b[39;00m \u001b[38;5;28;01mNone\u001b[39;00m\n\u001b[32m   1909\u001b[39m \u001b[38;5;66;03m# Sequentially call the tasks and yield the results.\u001b[39;00m\n\u001b[32m-> \u001b[39m\u001b[32m1910\u001b[39m \u001b[43m\u001b[49m\u001b[38;5;28;43;01mfor\u001b[39;49;00m\u001b[43m \u001b[49m\u001b[43mfunc\u001b[49m\u001b[43m,\u001b[49m\u001b[43m \u001b[49m\u001b[43margs\u001b[49m\u001b[43m,\u001b[49m\u001b[43m \u001b[49m\u001b[43mkwargs\u001b[49m\u001b[43m \u001b[49m\u001b[38;5;129;43;01min\u001b[39;49;00m\u001b[43m \u001b[49m\u001b[43miterable\u001b[49m\u001b[43m:\u001b[49m\n\u001b[32m   1911\u001b[39m \u001b[43m    \u001b[49m\u001b[38;5;28;43mself\u001b[39;49m\u001b[43m.\u001b[49m\u001b[43mn_dispatched_batches\u001b[49m\u001b[43m \u001b[49m\u001b[43m+\u001b[49m\u001b[43m=\u001b[49m\u001b[43m \u001b[49m\u001b[32;43m1\u001b[39;49m\n\u001b[32m   1912\u001b[39m \u001b[43m    \u001b[49m\u001b[38;5;28;43mself\u001b[39;49m\u001b[43m.\u001b[49m\u001b[43mn_dispatched_tasks\u001b[49m\u001b[43m \u001b[49m\u001b[43m+\u001b[49m\u001b[43m=\u001b[49m\u001b[43m \u001b[49m\u001b[32;43m1\u001b[39;49m\n",
      "\u001b[36mFile \u001b[39m\u001b[32m~/Documents/mi-analyze/.venv/lib/python3.12/site-packages/sklearn/utils/parallel.py:73\u001b[39m, in \u001b[36m<genexpr>\u001b[39m\u001b[34m(.0)\u001b[39m\n\u001b[32m     68\u001b[39m \u001b[38;5;66;03m# Capture the thread-local scikit-learn configuration at the time\u001b[39;00m\n\u001b[32m     69\u001b[39m \u001b[38;5;66;03m# Parallel.__call__ is issued since the tasks can be dispatched\u001b[39;00m\n\u001b[32m     70\u001b[39m \u001b[38;5;66;03m# in a different thread depending on the backend and on the value of\u001b[39;00m\n\u001b[32m     71\u001b[39m \u001b[38;5;66;03m# pre_dispatch and n_jobs.\u001b[39;00m\n\u001b[32m     72\u001b[39m config = get_config()\n\u001b[32m---> \u001b[39m\u001b[32m73\u001b[39m iterable_with_config = \u001b[43m(\u001b[49m\n\u001b[32m     74\u001b[39m \u001b[43m    \u001b[49m\u001b[43m(\u001b[49m\u001b[43m_with_config\u001b[49m\u001b[43m(\u001b[49m\u001b[43mdelayed_func\u001b[49m\u001b[43m,\u001b[49m\u001b[43m \u001b[49m\u001b[43mconfig\u001b[49m\u001b[43m)\u001b[49m\u001b[43m,\u001b[49m\u001b[43m \u001b[49m\u001b[43margs\u001b[49m\u001b[43m,\u001b[49m\u001b[43m \u001b[49m\u001b[43mkwargs\u001b[49m\u001b[43m)\u001b[49m\n\u001b[32m     75\u001b[39m \u001b[43m    \u001b[49m\u001b[38;5;28;43;01mfor\u001b[39;49;00m\u001b[43m \u001b[49m\u001b[43mdelayed_func\u001b[49m\u001b[43m,\u001b[49m\u001b[43m \u001b[49m\u001b[43margs\u001b[49m\u001b[43m,\u001b[49m\u001b[43m \u001b[49m\u001b[43mkwargs\u001b[49m\u001b[43m \u001b[49m\u001b[38;5;129;43;01min\u001b[39;49;00m\u001b[43m \u001b[49m\u001b[43miterable\u001b[49m\n\u001b[32m     76\u001b[39m \u001b[43m\u001b[49m\u001b[43m)\u001b[49m\n\u001b[32m     77\u001b[39m \u001b[38;5;28;01mreturn\u001b[39;00m \u001b[38;5;28msuper\u001b[39m().\u001b[34m__call__\u001b[39m(iterable_with_config)\n",
      "\u001b[36mFile \u001b[39m\u001b[32m~/Documents/mi-analyze/.venv/lib/python3.12/site-packages/sklearn/model_selection/_validation.py:411\u001b[39m, in \u001b[36m<genexpr>\u001b[39m\u001b[34m(.0)\u001b[39m\n\u001b[32m    408\u001b[39m \u001b[38;5;66;03m# We clone the estimator to make sure that all the folds are\u001b[39;00m\n\u001b[32m    409\u001b[39m \u001b[38;5;66;03m# independent, and that it is pickle-able.\u001b[39;00m\n\u001b[32m    410\u001b[39m parallel = Parallel(n_jobs=n_jobs, verbose=verbose, pre_dispatch=pre_dispatch)\n\u001b[32m--> \u001b[39m\u001b[32m411\u001b[39m results = parallel\u001b[43m(\u001b[49m\n\u001b[32m    412\u001b[39m \u001b[43m    \u001b[49m\u001b[43mdelayed\u001b[49m\u001b[43m(\u001b[49m\u001b[43m_fit_and_score\u001b[49m\u001b[43m)\u001b[49m\u001b[43m(\u001b[49m\n\u001b[32m    413\u001b[39m \u001b[43m        \u001b[49m\u001b[43mclone\u001b[49m\u001b[43m(\u001b[49m\u001b[43mestimator\u001b[49m\u001b[43m)\u001b[49m\u001b[43m,\u001b[49m\n\u001b[32m    414\u001b[39m \u001b[43m        \u001b[49m\u001b[43mX\u001b[49m\u001b[43m,\u001b[49m\n\u001b[32m    415\u001b[39m \u001b[43m        \u001b[49m\u001b[43my\u001b[49m\u001b[43m,\u001b[49m\n\u001b[32m    416\u001b[39m \u001b[43m        \u001b[49m\u001b[43mscorer\u001b[49m\u001b[43m=\u001b[49m\u001b[43mscorers\u001b[49m\u001b[43m,\u001b[49m\n\u001b[32m    417\u001b[39m \u001b[43m        \u001b[49m\u001b[43mtrain\u001b[49m\u001b[43m=\u001b[49m\u001b[43mtrain\u001b[49m\u001b[43m,\u001b[49m\n\u001b[32m    418\u001b[39m \u001b[43m        \u001b[49m\u001b[43mtest\u001b[49m\u001b[43m=\u001b[49m\u001b[43mtest\u001b[49m\u001b[43m,\u001b[49m\n\u001b[32m    419\u001b[39m \u001b[43m        \u001b[49m\u001b[43mverbose\u001b[49m\u001b[43m=\u001b[49m\u001b[43mverbose\u001b[49m\u001b[43m,\u001b[49m\n\u001b[32m    420\u001b[39m \u001b[43m        \u001b[49m\u001b[43mparameters\u001b[49m\u001b[43m=\u001b[49m\u001b[38;5;28;43;01mNone\u001b[39;49;00m\u001b[43m,\u001b[49m\n\u001b[32m    421\u001b[39m \u001b[43m        \u001b[49m\u001b[43mfit_params\u001b[49m\u001b[43m=\u001b[49m\u001b[43mrouted_params\u001b[49m\u001b[43m.\u001b[49m\u001b[43mestimator\u001b[49m\u001b[43m.\u001b[49m\u001b[43mfit\u001b[49m\u001b[43m,\u001b[49m\n\u001b[32m    422\u001b[39m \u001b[43m        \u001b[49m\u001b[43mscore_params\u001b[49m\u001b[43m=\u001b[49m\u001b[43mrouted_params\u001b[49m\u001b[43m.\u001b[49m\u001b[43mscorer\u001b[49m\u001b[43m.\u001b[49m\u001b[43mscore\u001b[49m\u001b[43m,\u001b[49m\n\u001b[32m    423\u001b[39m \u001b[43m        \u001b[49m\u001b[43mreturn_train_score\u001b[49m\u001b[43m=\u001b[49m\u001b[43mreturn_train_score\u001b[49m\u001b[43m,\u001b[49m\n\u001b[32m    424\u001b[39m \u001b[43m        \u001b[49m\u001b[43mreturn_times\u001b[49m\u001b[43m=\u001b[49m\u001b[38;5;28;43;01mTrue\u001b[39;49;00m\u001b[43m,\u001b[49m\n\u001b[32m    425\u001b[39m \u001b[43m        \u001b[49m\u001b[43mreturn_estimator\u001b[49m\u001b[43m=\u001b[49m\u001b[43mreturn_estimator\u001b[49m\u001b[43m,\u001b[49m\n\u001b[32m    426\u001b[39m \u001b[43m        \u001b[49m\u001b[43merror_score\u001b[49m\u001b[43m=\u001b[49m\u001b[43merror_score\u001b[49m\u001b[43m,\u001b[49m\n\u001b[32m    427\u001b[39m \u001b[43m    \u001b[49m\u001b[43m)\u001b[49m\n\u001b[32m    428\u001b[39m \u001b[43m    \u001b[49m\u001b[38;5;28;43;01mfor\u001b[39;49;00m\u001b[43m \u001b[49m\u001b[43mtrain\u001b[49m\u001b[43m,\u001b[49m\u001b[43m \u001b[49m\u001b[43mtest\u001b[49m\u001b[43m \u001b[49m\u001b[38;5;129;43;01min\u001b[39;49;00m\u001b[43m \u001b[49m\u001b[43mindices\u001b[49m\n\u001b[32m    429\u001b[39m \u001b[43m\u001b[49m\u001b[43m)\u001b[49m\n\u001b[32m    431\u001b[39m _warn_or_raise_about_fit_failures(results, error_score)\n\u001b[32m    433\u001b[39m \u001b[38;5;66;03m# For callable scoring, the return type is only know after calling. If the\u001b[39;00m\n\u001b[32m    434\u001b[39m \u001b[38;5;66;03m# return type is a dictionary, the error scores can now be inserted with\u001b[39;00m\n\u001b[32m    435\u001b[39m \u001b[38;5;66;03m# the correct key.\u001b[39;00m\n",
      "\u001b[36mFile \u001b[39m\u001b[32m~/Documents/mi-analyze/.venv/lib/python3.12/site-packages/sklearn/model_selection/_split.py:411\u001b[39m, in \u001b[36m_BaseKFold.split\u001b[39m\u001b[34m(self, X, y, groups)\u001b[39m\n\u001b[32m    403\u001b[39m \u001b[38;5;28;01mif\u001b[39;00m \u001b[38;5;28mself\u001b[39m.n_splits > n_samples:\n\u001b[32m    404\u001b[39m     \u001b[38;5;28;01mraise\u001b[39;00m \u001b[38;5;167;01mValueError\u001b[39;00m(\n\u001b[32m    405\u001b[39m         (\n\u001b[32m    406\u001b[39m             \u001b[33m\"\u001b[39m\u001b[33mCannot have number of splits n_splits=\u001b[39m\u001b[38;5;132;01m{0}\u001b[39;00m\u001b[33m greater\u001b[39m\u001b[33m\"\u001b[39m\n\u001b[32m    407\u001b[39m             \u001b[33m\"\u001b[39m\u001b[33m than the number of samples: n_samples=\u001b[39m\u001b[38;5;132;01m{1}\u001b[39;00m\u001b[33m.\u001b[39m\u001b[33m\"\u001b[39m\n\u001b[32m    408\u001b[39m         ).format(\u001b[38;5;28mself\u001b[39m.n_splits, n_samples)\n\u001b[32m    409\u001b[39m     )\n\u001b[32m--> \u001b[39m\u001b[32m411\u001b[39m \u001b[43m\u001b[49m\u001b[38;5;28;43;01mfor\u001b[39;49;00m\u001b[43m \u001b[49m\u001b[43mtrain\u001b[49m\u001b[43m,\u001b[49m\u001b[43m \u001b[49m\u001b[43mtest\u001b[49m\u001b[43m \u001b[49m\u001b[38;5;129;43;01min\u001b[39;49;00m\u001b[43m \u001b[49m\u001b[38;5;28;43msuper\u001b[39;49m\u001b[43m(\u001b[49m\u001b[43m)\u001b[49m\u001b[43m.\u001b[49m\u001b[43msplit\u001b[49m\u001b[43m(\u001b[49m\u001b[43mX\u001b[49m\u001b[43m,\u001b[49m\u001b[43m \u001b[49m\u001b[43my\u001b[49m\u001b[43m,\u001b[49m\u001b[43m \u001b[49m\u001b[43mgroups\u001b[49m\u001b[43m)\u001b[49m\u001b[43m:\u001b[49m\n\u001b[32m    412\u001b[39m \u001b[43m    \u001b[49m\u001b[38;5;28;43;01myield\u001b[39;49;00m\u001b[43m \u001b[49m\u001b[43mtrain\u001b[49m\u001b[43m,\u001b[49m\u001b[43m \u001b[49m\u001b[43mtest\u001b[49m\n",
      "\u001b[36mFile \u001b[39m\u001b[32m~/Documents/mi-analyze/.venv/lib/python3.12/site-packages/sklearn/model_selection/_split.py:142\u001b[39m, in \u001b[36mBaseCrossValidator.split\u001b[39m\u001b[34m(self, X, y, groups)\u001b[39m\n\u001b[32m    140\u001b[39m X, y, groups = indexable(X, y, groups)\n\u001b[32m    141\u001b[39m indices = np.arange(_num_samples(X))\n\u001b[32m--> \u001b[39m\u001b[32m142\u001b[39m \u001b[43m\u001b[49m\u001b[38;5;28;43;01mfor\u001b[39;49;00m\u001b[43m \u001b[49m\u001b[43mtest_index\u001b[49m\u001b[43m \u001b[49m\u001b[38;5;129;43;01min\u001b[39;49;00m\u001b[43m \u001b[49m\u001b[38;5;28;43mself\u001b[39;49m\u001b[43m.\u001b[49m\u001b[43m_iter_test_masks\u001b[49m\u001b[43m(\u001b[49m\u001b[43mX\u001b[49m\u001b[43m,\u001b[49m\u001b[43m \u001b[49m\u001b[43my\u001b[49m\u001b[43m,\u001b[49m\u001b[43m \u001b[49m\u001b[43mgroups\u001b[49m\u001b[43m)\u001b[49m\u001b[43m:\u001b[49m\n\u001b[32m    143\u001b[39m \u001b[43m    \u001b[49m\u001b[43mtrain_index\u001b[49m\u001b[43m \u001b[49m\u001b[43m=\u001b[49m\u001b[43m \u001b[49m\u001b[43mindices\u001b[49m\u001b[43m[\u001b[49m\u001b[43mnp\u001b[49m\u001b[43m.\u001b[49m\u001b[43mlogical_not\u001b[49m\u001b[43m(\u001b[49m\u001b[43mtest_index\u001b[49m\u001b[43m)\u001b[49m\u001b[43m]\u001b[49m\n\u001b[32m    144\u001b[39m \u001b[43m    \u001b[49m\u001b[43mtest_index\u001b[49m\u001b[43m \u001b[49m\u001b[43m=\u001b[49m\u001b[43m \u001b[49m\u001b[43mindices\u001b[49m\u001b[43m[\u001b[49m\u001b[43mtest_index\u001b[49m\u001b[43m]\u001b[49m\n",
      "\u001b[36mFile \u001b[39m\u001b[32m~/Documents/mi-analyze/.venv/lib/python3.12/site-packages/sklearn/model_selection/_split.py:838\u001b[39m, in \u001b[36mStratifiedKFold._iter_test_masks\u001b[39m\u001b[34m(self, X, y, groups)\u001b[39m\n\u001b[32m    837\u001b[39m \u001b[38;5;28;01mdef\u001b[39;00m\u001b[38;5;250m \u001b[39m\u001b[34m_iter_test_masks\u001b[39m(\u001b[38;5;28mself\u001b[39m, X, y=\u001b[38;5;28;01mNone\u001b[39;00m, groups=\u001b[38;5;28;01mNone\u001b[39;00m):\n\u001b[32m--> \u001b[39m\u001b[32m838\u001b[39m     test_folds = \u001b[38;5;28;43mself\u001b[39;49m\u001b[43m.\u001b[49m\u001b[43m_make_test_folds\u001b[49m\u001b[43m(\u001b[49m\u001b[43mX\u001b[49m\u001b[43m,\u001b[49m\u001b[43m \u001b[49m\u001b[43my\u001b[49m\u001b[43m)\u001b[49m\n\u001b[32m    839\u001b[39m     \u001b[38;5;28;01mfor\u001b[39;00m i \u001b[38;5;129;01min\u001b[39;00m \u001b[38;5;28mrange\u001b[39m(\u001b[38;5;28mself\u001b[39m.n_splits):\n\u001b[32m    840\u001b[39m         \u001b[38;5;28;01myield\u001b[39;00m test_folds == i\n",
      "\u001b[36mFile \u001b[39m\u001b[32m~/Documents/mi-analyze/.venv/lib/python3.12/site-packages/sklearn/model_selection/_split.py:800\u001b[39m, in \u001b[36mStratifiedKFold._make_test_folds\u001b[39m\u001b[34m(self, X, y)\u001b[39m\n\u001b[32m    798\u001b[39m min_groups = np.min(y_counts)\n\u001b[32m    799\u001b[39m \u001b[38;5;28;01mif\u001b[39;00m np.all(\u001b[38;5;28mself\u001b[39m.n_splits > y_counts):\n\u001b[32m--> \u001b[39m\u001b[32m800\u001b[39m     \u001b[38;5;28;01mraise\u001b[39;00m \u001b[38;5;167;01mValueError\u001b[39;00m(\n\u001b[32m    801\u001b[39m         \u001b[33m\"\u001b[39m\u001b[33mn_splits=\u001b[39m\u001b[38;5;132;01m%d\u001b[39;00m\u001b[33m cannot be greater than the\u001b[39m\u001b[33m\"\u001b[39m\n\u001b[32m    802\u001b[39m         \u001b[33m\"\u001b[39m\u001b[33m number of members in each class.\u001b[39m\u001b[33m\"\u001b[39m % (\u001b[38;5;28mself\u001b[39m.n_splits)\n\u001b[32m    803\u001b[39m     )\n\u001b[32m    804\u001b[39m \u001b[38;5;28;01mif\u001b[39;00m \u001b[38;5;28mself\u001b[39m.n_splits > min_groups:\n\u001b[32m    805\u001b[39m     warnings.warn(\n\u001b[32m    806\u001b[39m         \u001b[33m\"\u001b[39m\u001b[33mThe least populated class in y has only \u001b[39m\u001b[38;5;132;01m%d\u001b[39;00m\u001b[33m\"\u001b[39m\n\u001b[32m    807\u001b[39m         \u001b[33m\"\u001b[39m\u001b[33m members, which is less than n_splits=\u001b[39m\u001b[38;5;132;01m%d\u001b[39;00m\u001b[33m.\u001b[39m\u001b[33m\"\u001b[39m\n\u001b[32m    808\u001b[39m         % (min_groups, \u001b[38;5;28mself\u001b[39m.n_splits),\n\u001b[32m    809\u001b[39m         \u001b[38;5;167;01mUserWarning\u001b[39;00m,\n\u001b[32m    810\u001b[39m     )\n",
      "\u001b[31mValueError\u001b[39m: n_splits=5 cannot be greater than the number of members in each class."
     ]
    }
   ],
   "source": [
    "# クロスバリデーションで評価\n",
    "cv_scores = cross_val_score(svm, X_train_scaled, y_train, cv=5)\n",
    "print(f\"クロスバリデーションスコア: {cv_scores}\")\n",
    "print(f\"平均精度: {cv_scores.mean():.4f} ± {cv_scores.std():.4f}\")"
   ]
  },
  {
   "cell_type": "code",
   "execution_count": null,
   "id": "edaf5eda",
   "metadata": {},
   "outputs": [],
   "source": [
    "# ハイパーパラメータチューニング\n",
    "param_grid = {\n",
    "    'C': [0.1, 1, 10, 100],\n",
    "    'gamma': ['scale', 'auto', 0.1, 0.01, 0.001],\n",
    "    'kernel': ['rbf', 'linear', 'poly']\n",
    "}\n",
    "\n",
    "grid_search = GridSearchCV(SVC(random_state=42), param_grid, cv=5, scoring='accuracy', n_jobs=-1)\n",
    "grid_search.fit(X_train_scaled, y_train)\n",
    "\n",
    "print(f\"最適パラメータ: {grid_search.best_params_}\")\n",
    "print(f\"最高スコア: {grid_search.best_score_:.4f}\")"
   ]
  },
  {
   "cell_type": "code",
   "execution_count": null,
   "id": "a4d5362e",
   "metadata": {},
   "outputs": [],
   "source": [
    "# 最適なモデルで評価\n",
    "best_svm = grid_search.best_estimator_\n",
    "y_pred_best = best_svm.predict(X_test_scaled)\n",
    "\n",
    "print(\"最適モデルの分類レポート:\")\n",
    "print(classification_report(y_test, y_pred_best))\n",
    "\n",
    "# 混同行列の表示\n",
    "cm_best = confusion_matrix(y_test, y_pred_best)\n",
    "plt.figure(figsize=(8, 6))\n",
    "sns.heatmap(cm_best, annot=True, fmt='d', cmap='Blues', \n",
    "           xticklabels=unique_labels, \n",
    "           yticklabels=unique_labels)\n",
    "plt.xlabel('予測ラベル')\n",
    "plt.ylabel('実際のラベル')\n",
    "plt.title('最適モデルの混同行列')\n",
    "plt.show()"
   ]
  }
 ],
 "metadata": {
  "kernelspec": {
   "display_name": ".venv",
   "language": "python",
   "name": "python3"
  },
  "language_info": {
   "codemirror_mode": {
    "name": "ipython",
    "version": 3
   },
   "file_extension": ".py",
   "mimetype": "text/x-python",
   "name": "python",
   "nbconvert_exporter": "python",
   "pygments_lexer": "ipython3",
   "version": "3.12.3"
  }
 },
 "nbformat": 4,
 "nbformat_minor": 5
}
